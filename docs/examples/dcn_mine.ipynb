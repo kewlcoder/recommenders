{
 "cells": [
  {
   "cell_type": "markdown",
   "metadata": {
    "id": "ChjuaQjm_iBf"
   },
   "source": [
    "##### Copyright 2020 The TensorFlow Authors."
   ]
  },
  {
   "cell_type": "code",
   "execution_count": null,
   "metadata": {
    "cellView": "form",
    "id": "uWqCArLO_kez"
   },
   "outputs": [],
   "source": [
    "#@title Licensed under the Apache License, Version 2.0 (the \"License\");\n",
    "# you may not use this file except in compliance with the License.\n",
    "# You may obtain a copy of the License at\n",
    "#\n",
    "# https://www.apache.org/licenses/LICENSE-2.0\n",
    "#\n",
    "# Unless required by applicable law or agreed to in writing, software\n",
    "# distributed under the License is distributed on an \"AS IS\" BASIS,\n",
    "# WITHOUT WARRANTIES OR CONDITIONS OF ANY KIND, either express or implied.\n",
    "# See the License for the specific language governing permissions and\n",
    "# limitations under the License."
   ]
  },
  {
   "cell_type": "markdown",
   "metadata": {
    "id": "ikhIvrku-i-L"
   },
   "source": [
    "# Deep & Cross Network (DCN)\n",
    "\n",
    "<table class=\"tfo-notebook-buttons\" align=\"left\">\n",
    "  <td>\n",
    "    <a target=\"_blank\" href=\"https://www.tensorflow.org/recommenders/examples/dcn\"><img src=\"https://www.tensorflow.org/images/tf_logo_32px.png\" />View on TensorFlow.org</a>\n",
    "  </td>\n",
    "  <td>\n",
    "    <a target=\"_blank\" href=\"https://colab.research.google.com/github/tensorflow/recommenders/blob/main/docs/examples/dcn.ipynb\"><img src=\"https://www.tensorflow.org/images/colab_logo_32px.png\" />Run in Google Colab</a>\n",
    "  </td>\n",
    "  <td>\n",
    "    <a target=\"_blank\" href=\"https://github.com/tensorflow/recommenders/blob/main/docs/examples/dcn.ipynb\"><img src=\"https://www.tensorflow.org/images/GitHub-Mark-32px.png\" />View source on GitHub</a>\n",
    "  </td>\n",
    "  <td>\n",
    "    <a href=\"https://storage.googleapis.com/tensorflow_docs/recommenders/docs/examples/dcn.ipynb\"><img src=\"https://www.tensorflow.org/images/download_logo_32px.png\" />Download notebook</a>\n",
    "  </td>\n",
    "</table>"
   ]
  },
  {
   "cell_type": "markdown",
   "metadata": {
    "id": "Q-rOX95bAye4"
   },
   "source": [
    "This tutorial demonstrates how to use Deep & Cross Network (DCN) to effectively learn feature crosses.\n",
    "\n",
    "##Background\n",
    "\n",
    "**What are feature crosses and why are they important?** Imagine that we are building a recommender system to sell a blender to customers. Then, a customer's past purchase history such as `purchased_bananas` and `purchased_cooking_books`, or geographic features, are single features. If one has purchased both bananas **and** cooking books, then this customer will more likely click on the recommended blender. The combination of `purchased_bananas` and `purchased_cooking_books` is referred to as a **feature cross**, which provides additional interaction information beyond the individual features.\n",
    "<div>\n",
    "<center>\n",
    "<img src=\"http://drive.google.com/uc?export=view&id=1e8pYZHM1ZSwqBLYVkKDoGg0_2t2UPc2y\" width=\"600\"/>\n",
    "</center>\n",
    "</div>\n",
    "\n",
    "\n",
    "\n",
    "\n",
    "**What are the challenges in learning feature crosses?** In Web-scale applications, data are mostly categorical, leading to large and sparse feature space. Identifying effective feature crosses in this setting often requires\n",
    "manual feature engineering or exhaustive search. Traditional feed-forward multilayer perceptron (MLP) models are universal function approximators; however, they cannot efficiently approximate even 2nd or 3rd-order feature crosses [[1](https://arxiv.org/pdf/2008.13535.pdf), [2](https://static.googleusercontent.com/media/research.google.com/en//pubs/archive/18fa88ad519f25dc4860567e19ab00beff3f01cb.pdf)].\n",
    "\n",
    "**What is Deep & Cross Network (DCN)?** DCN was designed to learn explicit and bounded-degree cross features more effectively. It starts with an input layer (typically an embedding layer), followed by a *cross network* containing multiple cross layers that models explicit feature interactions, and then combines\n",
    "with a *deep network* that models implicit feature interactions.\n",
    "\n",
    "\n",
    "*   Cross Network. This is the core of DCN. It explicitly applies feature crossing at each layer, and the highest\n",
    "polynomial degree increases with layer depth. The following figure shows the $(i+1)$-th cross layer.\n",
    "<div class=\"fig figcenter fighighlight\">\n",
    "<center>\n",
    "  <img src=\"http://drive.google.com/uc?export=view&id=1QvIDptMxixFNp6P4bBqMN4AYAhAIAYQZ\" width=\"50%\" style=\"display:block\">\n",
    "  </center>\n",
    "</div>\n",
    "*   Deep Network. It is a traditional feedforward multilayer perceptron (MLP).\n",
    "\n",
    "The deep network and cross network are then combined to form DCN [[1](https://arxiv.org/pdf/2008.13535.pdf)]. Commonly, we could stack a deep network on top of the cross network (stacked structure); we could also place them in parallel (parallel structure). \n",
    "\n",
    "\n",
    "<div class=\"fig figcenter fighighlight\">\n",
    "<center>\n",
    "  <img src=\"http://drive.google.com/uc?export=view&id=1WtDUCV6b-eetUnWVCAmcPh8mJFut5EUd\" hspace=\"40\" width=\"30%\" style=\"margin: 0px 100px 0px 0px;\">\n",
    "  <img src=\"http://drive.google.com/uc?export=view&id=1xo_twKb847hasfss7JxF0UtFX_rEb4nt\" width=\"20%\">\n",
    "  </center>\n",
    "</div>"
   ]
  },
  {
   "cell_type": "markdown",
   "metadata": {
    "id": "6OlIGoADAhZg"
   },
   "source": [
    "In the following, we will first show the advantage of DCN with a toy example, and then we will walk you through some common ways to utilize DCN using the MovieLen-1M dataset."
   ]
  },
  {
   "cell_type": "markdown",
   "metadata": {
    "id": "Az-y_3qxH3gA"
   },
   "source": [
    "Let's first install and import the necessary packages for this colab.\n"
   ]
  },
  {
   "cell_type": "code",
   "execution_count": 1,
   "metadata": {
    "id": "PjfZWVEWAmxS"
   },
   "outputs": [],
   "source": [
    "!pip install -q tensorflow-recommenders\n",
    "!pip install -q --upgrade tensorflow-datasets"
   ]
  },
  {
   "cell_type": "code",
   "execution_count": 2,
   "metadata": {
    "id": "DqsyLA0UHeCl"
   },
   "outputs": [],
   "source": [
    "import pprint\n",
    "\n",
    "%matplotlib inline\n",
    "import matplotlib.pyplot as plt\n",
    "from mpl_toolkits.axes_grid1 import make_axes_locatable\n",
    "\n",
    "import numpy as np\n",
    "import tensorflow as tf\n",
    "import tensorflow_datasets as tfds\n",
    "\n",
    "import tensorflow_recommenders as tfrs"
   ]
  },
  {
   "cell_type": "markdown",
   "metadata": {
    "id": "tHCgOeoHBGbb"
   },
   "source": [
    "## Toy Example\n",
    "To illustrate the benefits of DCN, let's work through a simple example. Suppose we have a dataset where we're trying to model the likelihood of a customer clicking on a blender Ad, with its features and label described as follows.\n",
    "\n",
    "| Features / Label        | Description           | Value Type / Range  |\n",
    "| ------------- |-------------| -----|\n",
    "| $x_1$ = country | the country this customer lives in | Int in [0, 199] |\n",
    "| $x_2$ = bananas | # bananas the customer has purchased |Int in   [0, 23] |\n",
    "| $x_3$ = cookbooks | # cooking books the customer has purchased     |Int in  [0, 5] |\n",
    "| $y$ | the likelihood of clicking on a blender Ad     |   -- |\n",
    "\n",
    "Then, we let the data follow the following underlying distribution:\n",
    "$$y = f(x_1, x_2, x_3) = 0.1x_1 + 0.4x_2+0.7x_3 + 0.1x_1x_2+3.1x_2x_3+0.1x_3^2$$\n",
    "\n",
    "where the likelihood $y$ depends linearly both on features $x_i$'s, but also on multiplicative interactions between the $x_i$'s. In our case, we would say that the likelihood of purchasing a blender ($y$) depends not just on buying bananas ($x_2$) or cookbooks ($x_3$), but also on buying bananas and cookbooks *together* ($x_2x_3$)."
   ]
  },
  {
   "cell_type": "markdown",
   "metadata": {
    "id": "HO6d-0zoHrz8"
   },
   "source": [
    "We can generate the data for this as follows:\n"
   ]
  },
  {
   "cell_type": "markdown",
   "metadata": {
    "id": "-fi2ya4P_hab"
   },
   "source": [
    "### Synthetic data generation\n",
    "\n",
    "We first define $f(x_1, x_2, x_3)$ as described above. "
   ]
  },
  {
   "cell_type": "code",
   "execution_count": 3,
   "metadata": {
    "id": "9rT3f6C3GX0u"
   },
   "outputs": [],
   "source": [
    "def get_mixer_data(data_size=100_000, random_seed=42):\n",
    "  # We need to fix the random seed\n",
    "  # to make colab runs repeatable.\n",
    "  rng = np.random.RandomState(random_seed)\n",
    "  country = rng.randint(200, size=[data_size, 1]) / 200.\n",
    "  bananas = rng.randint(24, size=[data_size, 1]) / 24.\n",
    "  coockbooks = rng.randint(6, size=[data_size, 1]) / 6.\n",
    "\n",
    "  x = np.concatenate([country, bananas, coockbooks], axis=1)\n",
    "\n",
    "  # # Create 1st-order terms.\n",
    "  y = 0.1 * country + 0.4 * bananas + 0.7 * coockbooks\n",
    "\n",
    "  # Create 2nd-order cross terms.\n",
    "  y += 0.1 * country * bananas + 3.1 * bananas * coockbooks + (\n",
    "        0.1 * coockbooks * coockbooks)\n",
    "\n",
    "  return x, y"
   ]
  },
  {
   "cell_type": "markdown",
   "metadata": {
    "id": "JXtUSs9E3uRG"
   },
   "source": [
    "Let's generate the data that follows the distribution, and split the data into 90% for training and 10% for testing."
   ]
  },
  {
   "cell_type": "code",
   "execution_count": 4,
   "metadata": {
    "id": "vrQWVYajgmNV"
   },
   "outputs": [],
   "source": [
    "x, y = get_mixer_data()\n",
    "num_train = 90000\n",
    "train_x = x[:num_train]\n",
    "train_y = y[:num_train]\n",
    "eval_x = x[num_train:]\n",
    "eval_y = y[num_train:]"
   ]
  },
  {
   "cell_type": "markdown",
   "metadata": {
    "id": "MszQC-KJLhVK"
   },
   "source": [
    "### Model construction\n",
    "\n",
    "We're going to try out both cross network and deep network to illustrate the advantage a cross network can bring to recommenders. As the data we just created only contains 2nd-order feature interactions, it would be sufficient to illustrate with a single-layered cross network. If we wanted to model higher-order feature interactions, we could stack multiple cross layers and use a multi-layered cross network. The two models we will be building are:\n",
    "1.   Cross Network with only one cross layer;\n",
    "2.   Deep Network with wider and deeper ReLU layers. \n",
    "\n",
    "We first build a unified model class whose loss is the mean squared error. "
   ]
  },
  {
   "cell_type": "code",
   "execution_count": 5,
   "metadata": {
    "id": "bwgAH2FTR4Fe"
   },
   "outputs": [],
   "source": [
    "class Model(tfrs.Model):\n",
    "\n",
    "  def __init__(self, model):\n",
    "    super().__init__()\n",
    "    self._model = model\n",
    "    self._logit_layer = tf.keras.layers.Dense(1)\n",
    "\n",
    "    self.task = tfrs.tasks.Ranking(\n",
    "      loss=tf.keras.losses.MeanSquaredError(),\n",
    "      metrics=[\n",
    "        tf.keras.metrics.RootMeanSquaredError(\"RMSE\")\n",
    "      ]\n",
    "    )\n",
    "\n",
    "  def call(self, x):\n",
    "    x = self._model(x)\n",
    "    return self._logit_layer(x)\n",
    "\n",
    "  def compute_loss(self, features, training=False):\n",
    "    x, labels = features\n",
    "    scores = self(x)\n",
    "\n",
    "    return self.task(\n",
    "        labels=labels,\n",
    "        predictions=scores,\n",
    "    )"
   ]
  },
  {
   "cell_type": "markdown",
   "metadata": {
    "id": "QAKBq2QxOdM0"
   },
   "source": [
    "Then, we specify the cross network (with 1 cross layer of size 3) and the ReLU-based DNN (with layer sizes [512, 256, 128]):"
   ]
  },
  {
   "cell_type": "code",
   "execution_count": 6,
   "metadata": {
    "id": "EwBwSHz_N3pW"
   },
   "outputs": [],
   "source": [
    "crossnet = Model(tfrs.layers.dcn.Cross())\n",
    "deepnet = Model(\n",
    "    tf.keras.Sequential([\n",
    "      tf.keras.layers.Dense(512, activation=\"relu\"),\n",
    "      tf.keras.layers.Dense(256, activation=\"relu\"),\n",
    "      tf.keras.layers.Dense(128, activation=\"relu\")\n",
    "    ])\n",
    ")"
   ]
  },
  {
   "cell_type": "markdown",
   "metadata": {
    "id": "2EtaI5lh4X0B"
   },
   "source": [
    "### Model training\n",
    "Now that we have the data and models ready, we are going to train the models. We first shuffle and batch the data to prepare for model training.\n"
   ]
  },
  {
   "cell_type": "code",
   "execution_count": 7,
   "metadata": {
    "id": "X6gD-NTF4eoj"
   },
   "outputs": [],
   "source": [
    "train_data = tf.data.Dataset.from_tensor_slices((train_x, train_y)).batch(1000)\n",
    "eval_data = tf.data.Dataset.from_tensor_slices((eval_x, eval_y)).batch(1000)"
   ]
  },
  {
   "cell_type": "markdown",
   "metadata": {
    "id": "JYm5bmmgPVZu"
   },
   "source": [
    "Then, we define the number of epochs as well as the learning rate."
   ]
  },
  {
   "cell_type": "code",
   "execution_count": 8,
   "metadata": {
    "id": "nFhrC7fV6szW"
   },
   "outputs": [],
   "source": [
    "epochs = 100\n",
    "learning_rate = 0.4"
   ]
  },
  {
   "cell_type": "markdown",
   "metadata": {
    "id": "zbRiVPJtPz-1"
   },
   "source": [
    "Alright, everything is ready now and let's compile and train the models. You could set `verbose=True` if you want to see how the model progresses."
   ]
  },
  {
   "cell_type": "code",
   "execution_count": 10,
   "metadata": {
    "id": "F8ZXXbmKuB8p"
   },
   "outputs": [
    {
     "name": "stdout",
     "output_type": "stream",
     "text": [
      "Epoch 1/100\n",
      "90/90 [==============================] - 1s 2ms/step - RMSE: 0.3441 - loss: 0.1172 - regularization_loss: 0.0000e+00 - total_loss: 0.1172\n",
      "Epoch 2/100\n",
      "90/90 [==============================] - 0s 2ms/step - RMSE: 0.0770 - loss: 0.0059 - regularization_loss: 0.0000e+00 - total_loss: 0.0059\n",
      "Epoch 3/100\n",
      "90/90 [==============================] - 0s 2ms/step - RMSE: 0.0601 - loss: 0.0036 - regularization_loss: 0.0000e+00 - total_loss: 0.0036\n",
      "Epoch 4/100\n",
      "90/90 [==============================] - 0s 2ms/step - RMSE: 0.0529 - loss: 0.0028 - regularization_loss: 0.0000e+00 - total_loss: 0.0028\n",
      "Epoch 5/100\n",
      "90/90 [==============================] - 0s 2ms/step - RMSE: 0.0486 - loss: 0.0024 - regularization_loss: 0.0000e+00 - total_loss: 0.0024\n",
      "Epoch 6/100\n",
      "90/90 [==============================] - 0s 2ms/step - RMSE: 0.0454 - loss: 0.0021 - regularization_loss: 0.0000e+00 - total_loss: 0.0021\n",
      "Epoch 7/100\n",
      "90/90 [==============================] - 0s 2ms/step - RMSE: 0.0428 - loss: 0.0018 - regularization_loss: 0.0000e+00 - total_loss: 0.0018\n",
      "Epoch 8/100\n",
      "90/90 [==============================] - 0s 2ms/step - RMSE: 0.0406 - loss: 0.0017 - regularization_loss: 0.0000e+00 - total_loss: 0.0017\n",
      "Epoch 9/100\n",
      "90/90 [==============================] - 0s 2ms/step - RMSE: 0.0387 - loss: 0.0015 - regularization_loss: 0.0000e+00 - total_loss: 0.0015\n",
      "Epoch 10/100\n",
      "90/90 [==============================] - 0s 2ms/step - RMSE: 0.0370 - loss: 0.0014 - regularization_loss: 0.0000e+00 - total_loss: 0.0014\n",
      "Epoch 11/100\n",
      "90/90 [==============================] - 0s 2ms/step - RMSE: 0.0354 - loss: 0.0013 - regularization_loss: 0.0000e+00 - total_loss: 0.0013\n",
      "Epoch 12/100\n",
      "90/90 [==============================] - 0s 2ms/step - RMSE: 0.0340 - loss: 0.0012 - regularization_loss: 0.0000e+00 - total_loss: 0.0012\n",
      "Epoch 13/100\n",
      "90/90 [==============================] - 0s 2ms/step - RMSE: 0.0327 - loss: 0.0011 - regularization_loss: 0.0000e+00 - total_loss: 0.0011\n",
      "Epoch 14/100\n",
      "90/90 [==============================] - 0s 2ms/step - RMSE: 0.0315 - loss: 9.9114e-04 - regularization_loss: 0.0000e+00 - total_loss: 9.9114e-04\n",
      "Epoch 15/100\n",
      "90/90 [==============================] - 0s 2ms/step - RMSE: 0.0303 - loss: 9.1991e-04 - regularization_loss: 0.0000e+00 - total_loss: 9.1991e-04\n",
      "Epoch 16/100\n",
      "90/90 [==============================] - 0s 2ms/step - RMSE: 0.0292 - loss: 8.5601e-04 - regularization_loss: 0.0000e+00 - total_loss: 8.5601e-04\n",
      "Epoch 17/100\n",
      "90/90 [==============================] - 0s 2ms/step - RMSE: 0.0282 - loss: 7.9801e-04 - regularization_loss: 0.0000e+00 - total_loss: 7.9801e-04\n",
      "Epoch 18/100\n",
      "90/90 [==============================] - 0s 2ms/step - RMSE: 0.0273 - loss: 7.4511e-04 - regularization_loss: 0.0000e+00 - total_loss: 7.4511e-04\n",
      "Epoch 19/100\n",
      "90/90 [==============================] - 0s 2ms/step - RMSE: 0.0264 - loss: 6.9690e-04 - regularization_loss: 0.0000e+00 - total_loss: 6.9690e-04\n",
      "Epoch 20/100\n",
      "90/90 [==============================] - 0s 2ms/step - RMSE: 0.0255 - loss: 6.5254e-04 - regularization_loss: 0.0000e+00 - total_loss: 6.5254e-04\n",
      "Epoch 21/100\n",
      "90/90 [==============================] - 0s 2ms/step - RMSE: 0.0247 - loss: 6.1149e-04 - regularization_loss: 0.0000e+00 - total_loss: 6.1149e-04\n",
      "Epoch 22/100\n",
      "90/90 [==============================] - 0s 2ms/step - RMSE: 0.0239 - loss: 5.7377e-04 - regularization_loss: 0.0000e+00 - total_loss: 5.7377e-04\n",
      "Epoch 23/100\n",
      "90/90 [==============================] - 0s 2ms/step - RMSE: 0.0232 - loss: 5.3874e-04 - regularization_loss: 0.0000e+00 - total_loss: 5.3874e-04\n",
      "Epoch 24/100\n",
      "90/90 [==============================] - 0s 2ms/step - RMSE: 0.0225 - loss: 5.0674e-04 - regularization_loss: 0.0000e+00 - total_loss: 5.0674e-04\n",
      "Epoch 25/100\n",
      "90/90 [==============================] - 0s 2ms/step - RMSE: 0.0218 - loss: 4.7642e-04 - regularization_loss: 0.0000e+00 - total_loss: 4.7642e-04\n",
      "Epoch 26/100\n",
      "90/90 [==============================] - 0s 2ms/step - RMSE: 0.0212 - loss: 4.4848e-04 - regularization_loss: 0.0000e+00 - total_loss: 4.4848e-04\n",
      "Epoch 27/100\n",
      "90/90 [==============================] - 0s 2ms/step - RMSE: 0.0205 - loss: 4.2272e-04 - regularization_loss: 0.0000e+00 - total_loss: 4.2272e-04\n",
      "Epoch 28/100\n",
      "90/90 [==============================] - 0s 2ms/step - RMSE: 0.0199 - loss: 3.9848e-04 - regularization_loss: 0.0000e+00 - total_loss: 3.9848e-04\n",
      "Epoch 29/100\n",
      "90/90 [==============================] - 0s 2ms/step - RMSE: 0.0194 - loss: 3.7575e-04 - regularization_loss: 0.0000e+00 - total_loss: 3.7575e-04\n",
      "Epoch 30/100\n",
      "90/90 [==============================] - 0s 2ms/step - RMSE: 0.0188 - loss: 3.5459e-04 - regularization_loss: 0.0000e+00 - total_loss: 3.5459e-04\n",
      "Epoch 31/100\n",
      "90/90 [==============================] - 0s 2ms/step - RMSE: 0.0183 - loss: 3.3505e-04 - regularization_loss: 0.0000e+00 - total_loss: 3.3505e-04\n",
      "Epoch 32/100\n",
      "90/90 [==============================] - 0s 2ms/step - RMSE: 0.0178 - loss: 3.1652e-04 - regularization_loss: 0.0000e+00 - total_loss: 3.1652e-04\n",
      "Epoch 33/100\n",
      "90/90 [==============================] - 0s 2ms/step - RMSE: 0.0173 - loss: 2.9936e-04 - regularization_loss: 0.0000e+00 - total_loss: 2.9936e-04\n",
      "Epoch 34/100\n",
      "90/90 [==============================] - 0s 2ms/step - RMSE: 0.0168 - loss: 2.8325e-04 - regularization_loss: 0.0000e+00 - total_loss: 2.8325e-04\n",
      "Epoch 35/100\n",
      "90/90 [==============================] - 0s 2ms/step - RMSE: 0.0164 - loss: 2.6814e-04 - regularization_loss: 0.0000e+00 - total_loss: 2.6814e-04\n",
      "Epoch 36/100\n",
      "90/90 [==============================] - 0s 2ms/step - RMSE: 0.0159 - loss: 2.5393e-04 - regularization_loss: 0.0000e+00 - total_loss: 2.5393e-04\n",
      "Epoch 37/100\n",
      "90/90 [==============================] - 0s 2ms/step - RMSE: 0.0155 - loss: 2.4086e-04 - regularization_loss: 0.0000e+00 - total_loss: 2.4086e-04\n",
      "Epoch 38/100\n",
      "90/90 [==============================] - 0s 2ms/step - RMSE: 0.0151 - loss: 2.2834e-04 - regularization_loss: 0.0000e+00 - total_loss: 2.2834e-04\n",
      "Epoch 39/100\n",
      "90/90 [==============================] - 0s 2ms/step - RMSE: 0.0147 - loss: 2.1681e-04 - regularization_loss: 0.0000e+00 - total_loss: 2.1681e-04\n",
      "Epoch 40/100\n",
      "90/90 [==============================] - 0s 2ms/step - RMSE: 0.0143 - loss: 2.0600e-04 - regularization_loss: 0.0000e+00 - total_loss: 2.0600e-04\n",
      "Epoch 41/100\n",
      "90/90 [==============================] - 0s 2ms/step - RMSE: 0.0140 - loss: 1.9580e-04 - regularization_loss: 0.0000e+00 - total_loss: 1.9580e-04\n",
      "Epoch 42/100\n",
      "90/90 [==============================] - 0s 1ms/step - RMSE: 0.0136 - loss: 1.8624e-04 - regularization_loss: 0.0000e+00 - total_loss: 1.8624e-04\n",
      "Epoch 43/100\n",
      "90/90 [==============================] - 0s 2ms/step - RMSE: 0.0133 - loss: 1.7744e-04 - regularization_loss: 0.0000e+00 - total_loss: 1.7744e-04\n",
      "Epoch 44/100\n",
      "90/90 [==============================] - 0s 2ms/step - RMSE: 0.0130 - loss: 1.6909e-04 - regularization_loss: 0.0000e+00 - total_loss: 1.6909e-04\n",
      "Epoch 45/100\n",
      "90/90 [==============================] - 0s 1ms/step - RMSE: 0.0127 - loss: 1.6121e-04 - regularization_loss: 0.0000e+00 - total_loss: 1.6121e-04\n",
      "Epoch 46/100\n",
      "90/90 [==============================] - 0s 2ms/step - RMSE: 0.0124 - loss: 1.5378e-04 - regularization_loss: 0.0000e+00 - total_loss: 1.5378e-04\n",
      "Epoch 47/100\n",
      "90/90 [==============================] - 0s 1ms/step - RMSE: 0.0121 - loss: 1.4711e-04 - regularization_loss: 0.0000e+00 - total_loss: 1.4711e-04\n",
      "Epoch 48/100\n",
      "90/90 [==============================] - 0s 1ms/step - RMSE: 0.0118 - loss: 1.4056e-04 - regularization_loss: 0.0000e+00 - total_loss: 1.4056e-04\n",
      "Epoch 49/100\n",
      "90/90 [==============================] - 0s 2ms/step - RMSE: 0.0116 - loss: 1.3459e-04 - regularization_loss: 0.0000e+00 - total_loss: 1.3459e-04\n",
      "Epoch 50/100\n",
      "90/90 [==============================] - 0s 2ms/step - RMSE: 0.0113 - loss: 1.2891e-04 - regularization_loss: 0.0000e+00 - total_loss: 1.2891e-04\n",
      "Epoch 51/100\n",
      "90/90 [==============================] - 0s 2ms/step - RMSE: 0.0111 - loss: 1.2372e-04 - regularization_loss: 0.0000e+00 - total_loss: 1.2372e-04\n",
      "Epoch 52/100\n",
      "90/90 [==============================] - 0s 1ms/step - RMSE: 0.0109 - loss: 1.1867e-04 - regularization_loss: 0.0000e+00 - total_loss: 1.1867e-04\n",
      "Epoch 53/100\n"
     ]
    },
    {
     "name": "stdout",
     "output_type": "stream",
     "text": [
      "90/90 [==============================] - 0s 1ms/step - RMSE: 0.0107 - loss: 1.1403e-04 - regularization_loss: 0.0000e+00 - total_loss: 1.1403e-04\n",
      "Epoch 54/100\n",
      "90/90 [==============================] - 0s 2ms/step - RMSE: 0.0105 - loss: 1.0974e-04 - regularization_loss: 0.0000e+00 - total_loss: 1.0974e-04\n",
      "Epoch 55/100\n",
      "90/90 [==============================] - 0s 2ms/step - RMSE: 0.0103 - loss: 1.0550e-04 - regularization_loss: 0.0000e+00 - total_loss: 1.0550e-04\n",
      "Epoch 56/100\n",
      "90/90 [==============================] - 0s 1ms/step - RMSE: 0.0101 - loss: 1.0184e-04 - regularization_loss: 0.0000e+00 - total_loss: 1.0184e-04\n",
      "Epoch 57/100\n",
      "90/90 [==============================] - 0s 1ms/step - RMSE: 0.0099 - loss: 9.8175e-05 - regularization_loss: 0.0000e+00 - total_loss: 9.8175e-05\n",
      "Epoch 58/100\n",
      "90/90 [==============================] - 0s 2ms/step - RMSE: 0.0097 - loss: 9.4847e-05 - regularization_loss: 0.0000e+00 - total_loss: 9.4847e-05\n",
      "Epoch 59/100\n",
      "90/90 [==============================] - 0s 2ms/step - RMSE: 0.0096 - loss: 9.1580e-05 - regularization_loss: 0.0000e+00 - total_loss: 9.1580e-05\n",
      "Epoch 60/100\n",
      "90/90 [==============================] - 0s 2ms/step - RMSE: 0.0094 - loss: 8.8581e-05 - regularization_loss: 0.0000e+00 - total_loss: 8.8581e-05\n",
      "Epoch 61/100\n",
      "90/90 [==============================] - 0s 2ms/step - RMSE: 0.0093 - loss: 8.5740e-05 - regularization_loss: 0.0000e+00 - total_loss: 8.5740e-05\n",
      "Epoch 62/100\n",
      "90/90 [==============================] - 0s 2ms/step - RMSE: 0.0091 - loss: 8.3117e-05 - regularization_loss: 0.0000e+00 - total_loss: 8.3117e-05\n",
      "Epoch 63/100\n",
      "90/90 [==============================] - 0s 2ms/step - RMSE: 0.0090 - loss: 8.0596e-05 - regularization_loss: 0.0000e+00 - total_loss: 8.0596e-05\n",
      "Epoch 64/100\n",
      "90/90 [==============================] - 0s 2ms/step - RMSE: 0.0088 - loss: 7.8274e-05 - regularization_loss: 0.0000e+00 - total_loss: 7.8274e-05\n",
      "Epoch 65/100\n",
      "90/90 [==============================] - 0s 2ms/step - RMSE: 0.0087 - loss: 7.5919e-05 - regularization_loss: 0.0000e+00 - total_loss: 7.5919e-05\n",
      "Epoch 66/100\n",
      "90/90 [==============================] - 0s 2ms/step - RMSE: 0.0086 - loss: 7.3960e-05 - regularization_loss: 0.0000e+00 - total_loss: 7.3960e-05\n",
      "Epoch 67/100\n",
      "90/90 [==============================] - 0s 1ms/step - RMSE: 0.0085 - loss: 7.1786e-05 - regularization_loss: 0.0000e+00 - total_loss: 7.1786e-05\n",
      "Epoch 68/100\n",
      "90/90 [==============================] - 0s 1ms/step - RMSE: 0.0084 - loss: 6.9985e-05 - regularization_loss: 0.0000e+00 - total_loss: 6.9985e-05\n",
      "Epoch 69/100\n",
      "90/90 [==============================] - 0s 2ms/step - RMSE: 0.0083 - loss: 6.8323e-05 - regularization_loss: 0.0000e+00 - total_loss: 6.8323e-05\n",
      "Epoch 70/100\n",
      "90/90 [==============================] - 0s 2ms/step - RMSE: 0.0081 - loss: 6.6421e-05 - regularization_loss: 0.0000e+00 - total_loss: 6.6421e-05\n",
      "Epoch 71/100\n",
      "90/90 [==============================] - 0s 2ms/step - RMSE: 0.0080 - loss: 6.4829e-05 - regularization_loss: 0.0000e+00 - total_loss: 6.4829e-05\n",
      "Epoch 72/100\n",
      "90/90 [==============================] - 0s 1ms/step - RMSE: 0.0080 - loss: 6.3432e-05 - regularization_loss: 0.0000e+00 - total_loss: 6.3432e-05\n",
      "Epoch 73/100\n",
      "90/90 [==============================] - 0s 2ms/step - RMSE: 0.0079 - loss: 6.1745e-05 - regularization_loss: 0.0000e+00 - total_loss: 6.1745e-05\n",
      "Epoch 74/100\n",
      "90/90 [==============================] - 0s 2ms/step - RMSE: 0.0078 - loss: 6.0408e-05 - regularization_loss: 0.0000e+00 - total_loss: 6.0408e-05\n",
      "Epoch 75/100\n",
      "90/90 [==============================] - 0s 2ms/step - RMSE: 0.0077 - loss: 5.9311e-05 - regularization_loss: 0.0000e+00 - total_loss: 5.9311e-05\n",
      "Epoch 76/100\n",
      "90/90 [==============================] - 0s 2ms/step - RMSE: 0.0076 - loss: 5.7811e-05 - regularization_loss: 0.0000e+00 - total_loss: 5.7811e-05\n",
      "Epoch 77/100\n",
      "90/90 [==============================] - 0s 1ms/step - RMSE: 0.0075 - loss: 5.6537e-05 - regularization_loss: 0.0000e+00 - total_loss: 5.6537e-05\n",
      "Epoch 78/100\n",
      "90/90 [==============================] - 0s 1ms/step - RMSE: 0.0074 - loss: 5.5400e-05 - regularization_loss: 0.0000e+00 - total_loss: 5.5400e-05\n",
      "Epoch 79/100\n",
      "90/90 [==============================] - 0s 1ms/step - RMSE: 0.0074 - loss: 5.4535e-05 - regularization_loss: 0.0000e+00 - total_loss: 5.4535e-05\n",
      "Epoch 80/100\n",
      "90/90 [==============================] - 0s 2ms/step - RMSE: 0.0073 - loss: 5.3251e-05 - regularization_loss: 0.0000e+00 - total_loss: 5.3251e-05\n",
      "Epoch 81/100\n",
      "90/90 [==============================] - 0s 2ms/step - RMSE: 0.0072 - loss: 5.2155e-05 - regularization_loss: 0.0000e+00 - total_loss: 5.2155e-05\n",
      "Epoch 82/100\n",
      "90/90 [==============================] - 0s 1ms/step - RMSE: 0.0071 - loss: 5.1174e-05 - regularization_loss: 0.0000e+00 - total_loss: 5.1174e-05\n",
      "Epoch 83/100\n",
      "90/90 [==============================] - 0s 2ms/step - RMSE: 0.0071 - loss: 5.0695e-05 - regularization_loss: 0.0000e+00 - total_loss: 5.0695e-05\n",
      "Epoch 84/100\n",
      "90/90 [==============================] - 0s 2ms/step - RMSE: 0.0071 - loss: 5.0142e-05 - regularization_loss: 0.0000e+00 - total_loss: 5.0142e-05\n",
      "Epoch 85/100\n",
      "90/90 [==============================] - 0s 2ms/step - RMSE: 0.0070 - loss: 4.8646e-05 - regularization_loss: 0.0000e+00 - total_loss: 4.8646e-05\n",
      "Epoch 86/100\n",
      "90/90 [==============================] - 0s 2ms/step - RMSE: 0.0069 - loss: 4.7586e-05 - regularization_loss: 0.0000e+00 - total_loss: 4.7586e-05\n",
      "Epoch 87/100\n",
      "90/90 [==============================] - 0s 1ms/step - RMSE: 0.0068 - loss: 4.6756e-05 - regularization_loss: 0.0000e+00 - total_loss: 4.6756e-05\n",
      "Epoch 88/100\n",
      "90/90 [==============================] - 0s 1ms/step - RMSE: 0.0068 - loss: 4.5967e-05 - regularization_loss: 0.0000e+00 - total_loss: 4.5967e-05\n",
      "Epoch 89/100\n",
      "90/90 [==============================] - 0s 2ms/step - RMSE: 0.0067 - loss: 4.5432e-05 - regularization_loss: 0.0000e+00 - total_loss: 4.5432e-05\n",
      "Epoch 90/100\n",
      "90/90 [==============================] - 0s 2ms/step - RMSE: 0.0067 - loss: 4.4873e-05 - regularization_loss: 0.0000e+00 - total_loss: 4.4873e-05\n",
      "Epoch 91/100\n",
      "90/90 [==============================] - 0s 2ms/step - RMSE: 0.0066 - loss: 4.3813e-05 - regularization_loss: 0.0000e+00 - total_loss: 4.3813e-05\n",
      "Epoch 92/100\n",
      "90/90 [==============================] - 0s 2ms/step - RMSE: 0.0066 - loss: 4.3034e-05 - regularization_loss: 0.0000e+00 - total_loss: 4.3034e-05\n",
      "Epoch 93/100\n",
      "90/90 [==============================] - 0s 1ms/step - RMSE: 0.0065 - loss: 4.2355e-05 - regularization_loss: 0.0000e+00 - total_loss: 4.2355e-05\n",
      "Epoch 94/100\n",
      "90/90 [==============================] - 0s 2ms/step - RMSE: 0.0065 - loss: 4.1700e-05 - regularization_loss: 0.0000e+00 - total_loss: 4.1700e-05\n",
      "Epoch 95/100\n",
      "90/90 [==============================] - 0s 2ms/step - RMSE: 0.0064 - loss: 4.1150e-05 - regularization_loss: 0.0000e+00 - total_loss: 4.1150e-05\n",
      "Epoch 96/100\n",
      "90/90 [==============================] - 0s 2ms/step - RMSE: 0.0064 - loss: 4.0919e-05 - regularization_loss: 0.0000e+00 - total_loss: 4.0919e-05\n",
      "Epoch 97/100\n",
      "90/90 [==============================] - 0s 1ms/step - RMSE: 0.0064 - loss: 4.0647e-05 - regularization_loss: 0.0000e+00 - total_loss: 4.0647e-05\n",
      "Epoch 98/100\n",
      "90/90 [==============================] - 0s 1ms/step - RMSE: 0.0063 - loss: 4.0120e-05 - regularization_loss: 0.0000e+00 - total_loss: 4.0120e-05\n",
      "Epoch 99/100\n",
      "90/90 [==============================] - 0s 2ms/step - RMSE: 0.0063 - loss: 3.9187e-05 - regularization_loss: 0.0000e+00 - total_loss: 3.9187e-05\n",
      "Epoch 100/100\n",
      "90/90 [==============================] - 0s 2ms/step - RMSE: 0.0062 - loss: 3.8282e-05 - regularization_loss: 0.0000e+00 - total_loss: 3.8282e-05\n",
      "CPU times: user 17.8 s, sys: 1.6 s, total: 19.4 s\n",
      "Wall time: 15.2 s\n"
     ]
    },
    {
     "data": {
      "text/plain": [
       "<keras.callbacks.History at 0x7ff8dc5cb610>"
      ]
     },
     "execution_count": 10,
     "metadata": {},
     "output_type": "execute_result"
    }
   ],
   "source": [
    "%%time\n",
    "crossnet.compile(optimizer=tf.keras.optimizers.Adagrad(learning_rate))\n",
    "crossnet.fit(train_data, epochs=epochs, verbose=1)"
   ]
  },
  {
   "cell_type": "code",
   "execution_count": 11,
   "metadata": {
    "id": "Tzg3KLKW2sdA"
   },
   "outputs": [
    {
     "name": "stdout",
     "output_type": "stream",
     "text": [
      "Epoch 1/100\n",
      "90/90 [==============================] - 0s 2ms/step - RMSE: 54.3575 - loss: 2922.2720 - regularization_loss: 0.0000e+00 - total_loss: 2922.2720\n",
      "Epoch 2/100\n",
      "90/90 [==============================] - 0s 2ms/step - RMSE: 0.2016 - loss: 0.0405 - regularization_loss: 0.0000e+00 - total_loss: 0.0405\n",
      "Epoch 3/100\n",
      "90/90 [==============================] - 0s 2ms/step - RMSE: 0.1546 - loss: 0.0239 - regularization_loss: 0.0000e+00 - total_loss: 0.0239\n",
      "Epoch 4/100\n",
      "90/90 [==============================] - 0s 2ms/step - RMSE: 0.1452 - loss: 0.0211 - regularization_loss: 0.0000e+00 - total_loss: 0.0211\n",
      "Epoch 5/100\n",
      "90/90 [==============================] - 0s 2ms/step - RMSE: 0.1415 - loss: 0.0200 - regularization_loss: 0.0000e+00 - total_loss: 0.0200\n",
      "Epoch 6/100\n",
      "90/90 [==============================] - 0s 2ms/step - RMSE: 0.1403 - loss: 0.0197 - regularization_loss: 0.0000e+00 - total_loss: 0.0197\n",
      "Epoch 7/100\n",
      "90/90 [==============================] - 0s 2ms/step - RMSE: 0.1395 - loss: 0.0194 - regularization_loss: 0.0000e+00 - total_loss: 0.0194\n",
      "Epoch 8/100\n",
      "90/90 [==============================] - 0s 2ms/step - RMSE: 0.1374 - loss: 0.0189 - regularization_loss: 0.0000e+00 - total_loss: 0.0189\n",
      "Epoch 9/100\n",
      "90/90 [==============================] - 0s 2ms/step - RMSE: 0.1360 - loss: 0.0185 - regularization_loss: 0.0000e+00 - total_loss: 0.0185\n",
      "Epoch 10/100\n",
      "90/90 [==============================] - 0s 2ms/step - RMSE: 0.1360 - loss: 0.0185 - regularization_loss: 0.0000e+00 - total_loss: 0.0185\n",
      "Epoch 11/100\n",
      "90/90 [==============================] - 0s 2ms/step - RMSE: 0.1360 - loss: 0.0185 - regularization_loss: 0.0000e+00 - total_loss: 0.0185\n",
      "Epoch 12/100\n",
      "90/90 [==============================] - 0s 2ms/step - RMSE: 0.1329 - loss: 0.0176 - regularization_loss: 0.0000e+00 - total_loss: 0.0176\n",
      "Epoch 13/100\n",
      "90/90 [==============================] - 0s 2ms/step - RMSE: 0.1319 - loss: 0.0174 - regularization_loss: 0.0000e+00 - total_loss: 0.0174\n",
      "Epoch 14/100\n",
      "90/90 [==============================] - 0s 2ms/step - RMSE: 0.1291 - loss: 0.0166 - regularization_loss: 0.0000e+00 - total_loss: 0.0166\n",
      "Epoch 15/100\n",
      "90/90 [==============================] - 0s 2ms/step - RMSE: 0.1265 - loss: 0.0160 - regularization_loss: 0.0000e+00 - total_loss: 0.0160\n",
      "Epoch 16/100\n",
      "90/90 [==============================] - 0s 2ms/step - RMSE: 0.1241 - loss: 0.0154 - regularization_loss: 0.0000e+00 - total_loss: 0.0154\n",
      "Epoch 17/100\n",
      "90/90 [==============================] - 0s 2ms/step - RMSE: 0.1229 - loss: 0.0151 - regularization_loss: 0.0000e+00 - total_loss: 0.0151\n",
      "Epoch 18/100\n",
      "90/90 [==============================] - 0s 2ms/step - RMSE: 0.1213 - loss: 0.0147 - regularization_loss: 0.0000e+00 - total_loss: 0.0147\n",
      "Epoch 19/100\n",
      "90/90 [==============================] - 0s 2ms/step - RMSE: 0.1198 - loss: 0.0143 - regularization_loss: 0.0000e+00 - total_loss: 0.0143\n",
      "Epoch 20/100\n",
      "90/90 [==============================] - 0s 2ms/step - RMSE: 0.1184 - loss: 0.0140 - regularization_loss: 0.0000e+00 - total_loss: 0.0140\n",
      "Epoch 21/100\n",
      "90/90 [==============================] - 0s 2ms/step - RMSE: 0.1164 - loss: 0.0135 - regularization_loss: 0.0000e+00 - total_loss: 0.0135\n",
      "Epoch 22/100\n",
      "90/90 [==============================] - 0s 2ms/step - RMSE: 0.1148 - loss: 0.0131 - regularization_loss: 0.0000e+00 - total_loss: 0.0131\n",
      "Epoch 23/100\n",
      "90/90 [==============================] - 0s 2ms/step - RMSE: 0.1130 - loss: 0.0127 - regularization_loss: 0.0000e+00 - total_loss: 0.0127\n",
      "Epoch 24/100\n",
      "90/90 [==============================] - 0s 2ms/step - RMSE: 0.1116 - loss: 0.0124 - regularization_loss: 0.0000e+00 - total_loss: 0.0124\n",
      "Epoch 25/100\n",
      "90/90 [==============================] - 0s 2ms/step - RMSE: 0.1101 - loss: 0.0121 - regularization_loss: 0.0000e+00 - total_loss: 0.0121\n",
      "Epoch 26/100\n",
      "90/90 [==============================] - 0s 2ms/step - RMSE: 0.1082 - loss: 0.0117 - regularization_loss: 0.0000e+00 - total_loss: 0.0117\n",
      "Epoch 27/100\n",
      "90/90 [==============================] - 0s 2ms/step - RMSE: 0.1070 - loss: 0.0114 - regularization_loss: 0.0000e+00 - total_loss: 0.0114\n",
      "Epoch 28/100\n",
      "90/90 [==============================] - 0s 2ms/step - RMSE: 0.1046 - loss: 0.0109 - regularization_loss: 0.0000e+00 - total_loss: 0.0109\n",
      "Epoch 29/100\n",
      "90/90 [==============================] - 0s 2ms/step - RMSE: 0.1026 - loss: 0.0105 - regularization_loss: 0.0000e+00 - total_loss: 0.0105\n",
      "Epoch 30/100\n",
      "90/90 [==============================] - 0s 2ms/step - RMSE: 0.0994 - loss: 0.0099 - regularization_loss: 0.0000e+00 - total_loss: 0.0099\n",
      "Epoch 31/100\n",
      "90/90 [==============================] - 0s 2ms/step - RMSE: 0.0972 - loss: 0.0094 - regularization_loss: 0.0000e+00 - total_loss: 0.0094\n",
      "Epoch 32/100\n",
      "90/90 [==============================] - 0s 2ms/step - RMSE: 0.0940 - loss: 0.0088 - regularization_loss: 0.0000e+00 - total_loss: 0.0088\n",
      "Epoch 33/100\n",
      "90/90 [==============================] - 0s 2ms/step - RMSE: 0.0910 - loss: 0.0083 - regularization_loss: 0.0000e+00 - total_loss: 0.0083\n",
      "Epoch 34/100\n",
      "90/90 [==============================] - 0s 2ms/step - RMSE: 0.0875 - loss: 0.0077 - regularization_loss: 0.0000e+00 - total_loss: 0.0077\n",
      "Epoch 35/100\n",
      "90/90 [==============================] - 0s 2ms/step - RMSE: 0.0842 - loss: 0.0071 - regularization_loss: 0.0000e+00 - total_loss: 0.0071\n",
      "Epoch 36/100\n",
      "90/90 [==============================] - 0s 2ms/step - RMSE: 0.0813 - loss: 0.0066 - regularization_loss: 0.0000e+00 - total_loss: 0.0066\n",
      "Epoch 37/100\n",
      "90/90 [==============================] - 0s 2ms/step - RMSE: 0.0787 - loss: 0.0062 - regularization_loss: 0.0000e+00 - total_loss: 0.0062\n",
      "Epoch 38/100\n",
      "90/90 [==============================] - 0s 2ms/step - RMSE: 0.0764 - loss: 0.0058 - regularization_loss: 0.0000e+00 - total_loss: 0.0058\n",
      "Epoch 39/100\n",
      "90/90 [==============================] - 0s 2ms/step - RMSE: 0.0742 - loss: 0.0055 - regularization_loss: 0.0000e+00 - total_loss: 0.0055\n",
      "Epoch 40/100\n",
      "90/90 [==============================] - 0s 2ms/step - RMSE: 0.0721 - loss: 0.0052 - regularization_loss: 0.0000e+00 - total_loss: 0.0052\n",
      "Epoch 41/100\n",
      "90/90 [==============================] - 0s 2ms/step - RMSE: 0.0702 - loss: 0.0049 - regularization_loss: 0.0000e+00 - total_loss: 0.0049\n",
      "Epoch 42/100\n",
      "90/90 [==============================] - 0s 2ms/step - RMSE: 0.0684 - loss: 0.0047 - regularization_loss: 0.0000e+00 - total_loss: 0.0047\n",
      "Epoch 43/100\n",
      "90/90 [==============================] - 0s 2ms/step - RMSE: 0.0667 - loss: 0.0044 - regularization_loss: 0.0000e+00 - total_loss: 0.0044\n",
      "Epoch 44/100\n",
      "90/90 [==============================] - 0s 2ms/step - RMSE: 0.0656 - loss: 0.0043 - regularization_loss: 0.0000e+00 - total_loss: 0.0043\n",
      "Epoch 45/100\n",
      "90/90 [==============================] - 0s 2ms/step - RMSE: 0.0643 - loss: 0.0041 - regularization_loss: 0.0000e+00 - total_loss: 0.0041\n",
      "Epoch 46/100\n",
      "90/90 [==============================] - 0s 2ms/step - RMSE: 0.0621 - loss: 0.0039 - regularization_loss: 0.0000e+00 - total_loss: 0.0039\n",
      "Epoch 47/100\n",
      "90/90 [==============================] - 0s 2ms/step - RMSE: 0.0603 - loss: 0.0036 - regularization_loss: 0.0000e+00 - total_loss: 0.0036\n",
      "Epoch 48/100\n",
      "90/90 [==============================] - 0s 2ms/step - RMSE: 0.0590 - loss: 0.0035 - regularization_loss: 0.0000e+00 - total_loss: 0.0035\n",
      "Epoch 49/100\n",
      "90/90 [==============================] - 0s 2ms/step - RMSE: 0.0574 - loss: 0.0033 - regularization_loss: 0.0000e+00 - total_loss: 0.0033\n",
      "Epoch 50/100\n",
      "90/90 [==============================] - 0s 2ms/step - RMSE: 0.0565 - loss: 0.0032 - regularization_loss: 0.0000e+00 - total_loss: 0.0032\n",
      "Epoch 51/100\n",
      "90/90 [==============================] - 0s 2ms/step - RMSE: 0.0547 - loss: 0.0030 - regularization_loss: 0.0000e+00 - total_loss: 0.0030\n",
      "Epoch 52/100\n",
      "90/90 [==============================] - 0s 2ms/step - RMSE: 0.0538 - loss: 0.0029 - regularization_loss: 0.0000e+00 - total_loss: 0.0029\n",
      "Epoch 53/100\n",
      "90/90 [==============================] - 0s 2ms/step - RMSE: 0.0527 - loss: 0.0028 - regularization_loss: 0.0000e+00 - total_loss: 0.0028\n",
      "Epoch 54/100\n",
      "90/90 [==============================] - 0s 2ms/step - RMSE: 0.0514 - loss: 0.0026 - regularization_loss: 0.0000e+00 - total_loss: 0.0026\n",
      "Epoch 55/100\n"
     ]
    },
    {
     "name": "stdout",
     "output_type": "stream",
     "text": [
      "90/90 [==============================] - 0s 2ms/step - RMSE: 0.0508 - loss: 0.0026 - regularization_loss: 0.0000e+00 - total_loss: 0.0026\n",
      "Epoch 56/100\n",
      "90/90 [==============================] - 0s 2ms/step - RMSE: 0.0492 - loss: 0.0024 - regularization_loss: 0.0000e+00 - total_loss: 0.0024\n",
      "Epoch 57/100\n",
      "90/90 [==============================] - 0s 2ms/step - RMSE: 0.0484 - loss: 0.0023 - regularization_loss: 0.0000e+00 - total_loss: 0.0023\n",
      "Epoch 58/100\n",
      "90/90 [==============================] - 0s 2ms/step - RMSE: 0.0469 - loss: 0.0022 - regularization_loss: 0.0000e+00 - total_loss: 0.0022\n",
      "Epoch 59/100\n",
      "90/90 [==============================] - 0s 2ms/step - RMSE: 0.0464 - loss: 0.0022 - regularization_loss: 0.0000e+00 - total_loss: 0.0022\n",
      "Epoch 60/100\n",
      "90/90 [==============================] - 0s 2ms/step - RMSE: 0.0454 - loss: 0.0021 - regularization_loss: 0.0000e+00 - total_loss: 0.0021\n",
      "Epoch 61/100\n",
      "90/90 [==============================] - 0s 2ms/step - RMSE: 0.0448 - loss: 0.0020 - regularization_loss: 0.0000e+00 - total_loss: 0.0020\n",
      "Epoch 62/100\n",
      "90/90 [==============================] - 0s 2ms/step - RMSE: 0.0439 - loss: 0.0019 - regularization_loss: 0.0000e+00 - total_loss: 0.0019\n",
      "Epoch 63/100\n",
      "90/90 [==============================] - 0s 2ms/step - RMSE: 0.0425 - loss: 0.0018 - regularization_loss: 0.0000e+00 - total_loss: 0.0018\n",
      "Epoch 64/100\n",
      "90/90 [==============================] - 0s 2ms/step - RMSE: 0.0421 - loss: 0.0018 - regularization_loss: 0.0000e+00 - total_loss: 0.0018\n",
      "Epoch 65/100\n",
      "90/90 [==============================] - 0s 2ms/step - RMSE: 0.0415 - loss: 0.0017 - regularization_loss: 0.0000e+00 - total_loss: 0.0017\n",
      "Epoch 66/100\n",
      "90/90 [==============================] - 0s 2ms/step - RMSE: 0.0407 - loss: 0.0017 - regularization_loss: 0.0000e+00 - total_loss: 0.0017\n",
      "Epoch 67/100\n",
      "90/90 [==============================] - 0s 2ms/step - RMSE: 0.0402 - loss: 0.0016 - regularization_loss: 0.0000e+00 - total_loss: 0.0016\n",
      "Epoch 68/100\n",
      "90/90 [==============================] - 0s 2ms/step - RMSE: 0.0403 - loss: 0.0016 - regularization_loss: 0.0000e+00 - total_loss: 0.0016\n",
      "Epoch 69/100\n",
      "90/90 [==============================] - 0s 2ms/step - RMSE: 0.0395 - loss: 0.0016 - regularization_loss: 0.0000e+00 - total_loss: 0.0016\n",
      "Epoch 70/100\n",
      "90/90 [==============================] - 0s 2ms/step - RMSE: 0.0393 - loss: 0.0015 - regularization_loss: 0.0000e+00 - total_loss: 0.0015\n",
      "Epoch 71/100\n",
      "90/90 [==============================] - 0s 2ms/step - RMSE: 0.0380 - loss: 0.0014 - regularization_loss: 0.0000e+00 - total_loss: 0.0014\n",
      "Epoch 72/100\n",
      "90/90 [==============================] - 0s 2ms/step - RMSE: 0.0375 - loss: 0.0014 - regularization_loss: 0.0000e+00 - total_loss: 0.0014\n",
      "Epoch 73/100\n",
      "90/90 [==============================] - 0s 2ms/step - RMSE: 0.0375 - loss: 0.0014 - regularization_loss: 0.0000e+00 - total_loss: 0.0014\n",
      "Epoch 74/100\n",
      "90/90 [==============================] - 0s 2ms/step - RMSE: 0.0361 - loss: 0.0013 - regularization_loss: 0.0000e+00 - total_loss: 0.0013\n",
      "Epoch 75/100\n",
      "90/90 [==============================] - 0s 2ms/step - RMSE: 0.0366 - loss: 0.0013 - regularization_loss: 0.0000e+00 - total_loss: 0.0013\n",
      "Epoch 76/100\n",
      "90/90 [==============================] - 0s 2ms/step - RMSE: 0.0342 - loss: 0.0012 - regularization_loss: 0.0000e+00 - total_loss: 0.0012\n",
      "Epoch 77/100\n",
      "90/90 [==============================] - 0s 2ms/step - RMSE: 0.0354 - loss: 0.0013 - regularization_loss: 0.0000e+00 - total_loss: 0.0013\n",
      "Epoch 78/100\n",
      "90/90 [==============================] - 0s 2ms/step - RMSE: 0.0347 - loss: 0.0012 - regularization_loss: 0.0000e+00 - total_loss: 0.0012\n",
      "Epoch 79/100\n",
      "90/90 [==============================] - 0s 2ms/step - RMSE: 0.0344 - loss: 0.0012 - regularization_loss: 0.0000e+00 - total_loss: 0.0012\n",
      "Epoch 80/100\n",
      "90/90 [==============================] - 0s 2ms/step - RMSE: 0.0341 - loss: 0.0012 - regularization_loss: 0.0000e+00 - total_loss: 0.0012\n",
      "Epoch 81/100\n",
      "90/90 [==============================] - 0s 2ms/step - RMSE: 0.0330 - loss: 0.0011 - regularization_loss: 0.0000e+00 - total_loss: 0.0011\n",
      "Epoch 82/100\n",
      "90/90 [==============================] - 0s 2ms/step - RMSE: 0.0334 - loss: 0.0011 - regularization_loss: 0.0000e+00 - total_loss: 0.0011\n",
      "Epoch 83/100\n",
      "90/90 [==============================] - 0s 2ms/step - RMSE: 0.0326 - loss: 0.0011 - regularization_loss: 0.0000e+00 - total_loss: 0.0011\n",
      "Epoch 84/100\n",
      "90/90 [==============================] - 0s 2ms/step - RMSE: 0.0329 - loss: 0.0011 - regularization_loss: 0.0000e+00 - total_loss: 0.0011\n",
      "Epoch 85/100\n",
      "90/90 [==============================] - 0s 2ms/step - RMSE: 0.0315 - loss: 9.9409e-04 - regularization_loss: 0.0000e+00 - total_loss: 9.9409e-04\n",
      "Epoch 86/100\n",
      "90/90 [==============================] - 0s 2ms/step - RMSE: 0.0320 - loss: 0.0010 - regularization_loss: 0.0000e+00 - total_loss: 0.0010\n",
      "Epoch 87/100\n",
      "90/90 [==============================] - 0s 2ms/step - RMSE: 0.0305 - loss: 9.3261e-04 - regularization_loss: 0.0000e+00 - total_loss: 9.3261e-04\n",
      "Epoch 88/100\n",
      "90/90 [==============================] - 0s 2ms/step - RMSE: 0.0305 - loss: 9.3082e-04 - regularization_loss: 0.0000e+00 - total_loss: 9.3082e-04\n",
      "Epoch 89/100\n",
      "90/90 [==============================] - 0s 2ms/step - RMSE: 0.0296 - loss: 8.7365e-04 - regularization_loss: 0.0000e+00 - total_loss: 8.7365e-04\n",
      "Epoch 90/100\n",
      "90/90 [==============================] - 0s 2ms/step - RMSE: 0.0301 - loss: 9.0691e-04 - regularization_loss: 0.0000e+00 - total_loss: 9.0691e-04\n",
      "Epoch 91/100\n",
      "90/90 [==============================] - 0s 2ms/step - RMSE: 0.0316 - loss: 9.9846e-04 - regularization_loss: 0.0000e+00 - total_loss: 9.9846e-04\n",
      "Epoch 92/100\n",
      "90/90 [==============================] - 0s 2ms/step - RMSE: 0.0291 - loss: 8.4929e-04 - regularization_loss: 0.0000e+00 - total_loss: 8.4929e-04\n",
      "Epoch 93/100\n",
      "90/90 [==============================] - 0s 2ms/step - RMSE: 0.0296 - loss: 8.7605e-04 - regularization_loss: 0.0000e+00 - total_loss: 8.7605e-04\n",
      "Epoch 94/100\n",
      "90/90 [==============================] - 0s 2ms/step - RMSE: 0.0309 - loss: 9.5374e-04 - regularization_loss: 0.0000e+00 - total_loss: 9.5374e-04\n",
      "Epoch 95/100\n",
      "90/90 [==============================] - 0s 2ms/step - RMSE: 0.0325 - loss: 0.0011 - regularization_loss: 0.0000e+00 - total_loss: 0.0011\n",
      "Epoch 96/100\n",
      "90/90 [==============================] - 0s 2ms/step - RMSE: 0.0314 - loss: 9.8858e-04 - regularization_loss: 0.0000e+00 - total_loss: 9.8858e-04\n",
      "Epoch 97/100\n",
      "90/90 [==============================] - 0s 2ms/step - RMSE: 0.0301 - loss: 9.0816e-04 - regularization_loss: 0.0000e+00 - total_loss: 9.0816e-04\n",
      "Epoch 98/100\n",
      "90/90 [==============================] - 0s 2ms/step - RMSE: 0.0299 - loss: 8.9182e-04 - regularization_loss: 0.0000e+00 - total_loss: 8.9182e-04\n",
      "Epoch 99/100\n",
      "90/90 [==============================] - 0s 2ms/step - RMSE: 0.0293 - loss: 8.5895e-04 - regularization_loss: 0.0000e+00 - total_loss: 8.5895e-04\n",
      "Epoch 100/100\n",
      "90/90 [==============================] - 0s 2ms/step - RMSE: 0.0292 - loss: 8.5393e-04 - regularization_loss: 0.0000e+00 - total_loss: 8.5393e-04\n",
      "CPU times: user 19.4 s, sys: 1.45 s, total: 20.8 s\n",
      "Wall time: 16.6 s\n"
     ]
    },
    {
     "data": {
      "text/plain": [
       "<keras.callbacks.History at 0x7ff88c398250>"
      ]
     },
     "execution_count": 11,
     "metadata": {},
     "output_type": "execute_result"
    }
   ],
   "source": [
    "%%time\n",
    "deepnet.compile(optimizer=tf.keras.optimizers.Adagrad(learning_rate))\n",
    "deepnet.fit(train_data, epochs=epochs, verbose=1)"
   ]
  },
  {
   "cell_type": "markdown",
   "metadata": {
    "id": "xxWfaY6H7Bmp"
   },
   "source": [
    "### Model evaluation\n",
    "We verify the model performance on the evaluation dataset and report the Root Mean Squared Error (RMSE, the lower the better)."
   ]
  },
  {
   "cell_type": "code",
   "execution_count": 12,
   "metadata": {
    "id": "l4PM-goX6FoD"
   },
   "outputs": [
    {
     "name": "stdout",
     "output_type": "stream",
     "text": [
      "CrossNet(1 layer) RMSE is 0.0062 using 16 parameters.\n",
      "DeepNet(large) RMSE is 0.0289 using 166401 parameters.\n"
     ]
    }
   ],
   "source": [
    "crossnet_result = crossnet.evaluate(eval_data, return_dict=True, verbose=False)\n",
    "print(f\"CrossNet(1 layer) RMSE is {crossnet_result['RMSE']:.4f} \"\n",
    "      f\"using {crossnet.count_params()} parameters.\")\n",
    "\n",
    "deepnet_result = deepnet.evaluate(eval_data, return_dict=True, verbose=False)\n",
    "print(f\"DeepNet(large) RMSE is {deepnet_result['RMSE']:.4f} \"\n",
    "      f\"using {deepnet.count_params()} parameters.\")"
   ]
  },
  {
   "cell_type": "markdown",
   "metadata": {
    "id": "6_Ig-Gnm7-JD"
   },
   "source": [
    "We see that the cross network achieved **magnitudes lower RMSE** than a ReLU-based DNN, with **magnitudes fewer parameters**. This has suggested the efficieny of a cross network in learning feaure crosses.  "
   ]
  },
  {
   "cell_type": "markdown",
   "metadata": {
    "id": "XsCsY1-Us-_e"
   },
   "source": [
    "### Model understanding\n",
    "We already know what feature crosses are important in our data, it would be fun to check whether our model has indeed learned the important feature cross. This can be done by visualizing the learned weight matrix in DCN. The weight $W_{ij}$ represents the learned importance of interaction between feature $x_i$ and $x_j$."
   ]
  },
  {
   "cell_type": "code",
   "execution_count": null,
   "metadata": {
    "id": "N8dga2Qck5IV"
   },
   "outputs": [],
   "source": [
    "mat = crossnet._model._dense.kernel\n",
    "features = [\"country\", \"purchased_bananas\", \"purchased_cookbooks\"]\n",
    "\n",
    "plt.figure(figsize=(9,9))\n",
    "im = plt.matshow(np.abs(mat.numpy()), cmap=plt.cm.Blues)\n",
    "ax = plt.gca()\n",
    "divider = make_axes_locatable(plt.gca())\n",
    "cax = divider.append_axes(\"right\", size=\"5%\", pad=0.05)\n",
    "plt.colorbar(im, cax=cax)\n",
    "cax.tick_params(labelsize=10) \n",
    "_ = ax.set_xticklabels([''] + features, rotation=45, fontsize=10)\n",
    "_ = ax.set_yticklabels([''] + features, fontsize=10)"
   ]
  },
  {
   "cell_type": "markdown",
   "metadata": {
    "id": "bQHVZTu03qvi"
   },
   "source": [
    "Darker colours represent stronger learned interactions - in this case, it's clear that the model learned that purchasing babanas and cookbooks together is important.\n",
    "\n",
    "If you are interested in trying out more complicated synthetic data, feel free to check out [this paper](https://arxiv.org/pdf/2008.13535.pdf)."
   ]
  },
  {
   "cell_type": "markdown",
   "metadata": {
    "id": "0wU4FcpfHCZM"
   },
   "source": [
    "## Movielens 1M example\n",
    "We now examine the effectiveness of DCN on a real-world dataset: Movielens 1M [[3](https://grouplens.org/datasets/movielens)]. Movielens 1M is a popular dataset for recommendation research. It predicts users' movie ratings given user-related features and movie-related features. We use this dataset to domenstrate some common ways to utilize DCN."
   ]
  },
  {
   "cell_type": "markdown",
   "metadata": {
    "id": "8Rvlem07wfwH"
   },
   "source": [
    "### Data processing\n",
    "\n",
    "The data processing procedure follows a similar procedure as the [basic ranking tutorial](https://www.tensorflow.org/recommenders/examples/basic_ranking)."
   ]
  },
  {
   "cell_type": "code",
   "execution_count": null,
   "metadata": {
    "id": "7Y_n3EPosR4A"
   },
   "outputs": [],
   "source": [
    "ratings = tfds.load(\"movie_lens/100k-ratings\", split=\"train\")\n",
    "ratings = ratings.map(lambda x: {\n",
    "    \"movie_id\": x[\"movie_id\"],\n",
    "    \"user_id\": x[\"user_id\"],\n",
    "    \"user_rating\": x[\"user_rating\"],\n",
    "    \"user_gender\": int(x[\"user_gender\"]),\n",
    "    \"user_zip_code\": x[\"user_zip_code\"],\n",
    "    \"user_occupation_text\": x[\"user_occupation_text\"],\n",
    "    \"bucketized_user_age\": int(x[\"bucketized_user_age\"]),\n",
    "})"
   ]
  },
  {
   "cell_type": "markdown",
   "metadata": {
    "id": "2Yb3KxrgSHiF"
   },
   "source": [
    "Next, we randomly split the data into 80% for training and 20% for testing.\n"
   ]
  },
  {
   "cell_type": "code",
   "execution_count": null,
   "metadata": {
    "id": "a5-l91jR_zEo"
   },
   "outputs": [],
   "source": [
    "tf.random.set_seed(42)\n",
    "shuffled = ratings.shuffle(100_000, seed=42, reshuffle_each_iteration=False)\n",
    "\n",
    "train = shuffled.take(80_000)\n",
    "test = shuffled.skip(80_000).take(20_000)"
   ]
  },
  {
   "cell_type": "markdown",
   "metadata": {
    "id": "MRHGa9mESMVz"
   },
   "source": [
    "Then, we create vocabulary for each feature."
   ]
  },
  {
   "cell_type": "code",
   "execution_count": null,
   "metadata": {
    "id": "l9qhEcHq_VfI"
   },
   "outputs": [],
   "source": [
    "feature_names = [\"movie_id\", \"user_id\", \"user_gender\", \"user_zip_code\",\n",
    "                 \"user_occupation_text\", \"bucketized_user_age\"]\n",
    "\n",
    "vocabularies = {}\n",
    "\n",
    "for feature_name in feature_names:\n",
    "  vocab = ratings.batch(1_000_000).map(lambda x: x[feature_name])\n",
    "  vocabularies[feature_name] = np.unique(np.concatenate(list(vocab)))"
   ]
  },
  {
   "cell_type": "markdown",
   "metadata": {
    "id": "Eti8kNkPSORk"
   },
   "source": [
    "### Model construction\n",
    "\n",
    "The model architecture we will be building starts with an embedding layer, which is fed into a cross network followed by a deep network. The embedding dimension is set to 32 for all the features. You could also use different embedding sizes for different features."
   ]
  },
  {
   "cell_type": "code",
   "execution_count": null,
   "metadata": {
    "id": "6lrDcBjiwnHU"
   },
   "outputs": [],
   "source": [
    "class DCN(tfrs.Model):\n",
    "\n",
    "  def __init__(self, use_cross_layer, deep_layer_sizes, projection_dim=None):\n",
    "    super().__init__()\n",
    "\n",
    "    self.embedding_dimension = 32\n",
    "\n",
    "    str_features = [\"movie_id\", \"user_id\", \"user_zip_code\",\n",
    "                    \"user_occupation_text\"]\n",
    "    int_features = [\"user_gender\", \"bucketized_user_age\"]\n",
    "\n",
    "    self._all_features = str_features + int_features\n",
    "    self._embeddings = {}\n",
    "\n",
    "    # Compute embeddings for string features.\n",
    "    for feature_name in str_features:\n",
    "      vocabulary = vocabularies[feature_name]\n",
    "      self._embeddings[feature_name] = tf.keras.Sequential(\n",
    "          [tf.keras.layers.StringLookup(\n",
    "              vocabulary=vocabulary, mask_token=None),\n",
    "           tf.keras.layers.Embedding(len(vocabulary) + 1,\n",
    "                                     self.embedding_dimension)\n",
    "    ])\n",
    "      \n",
    "    # Compute embeddings for int features.\n",
    "    for feature_name in int_features:\n",
    "      vocabulary = vocabularies[feature_name]\n",
    "      self._embeddings[feature_name] = tf.keras.Sequential(\n",
    "          [tf.keras.layers.IntegerLookup(\n",
    "              vocabulary=vocabulary, mask_value=None),\n",
    "           tf.keras.layers.Embedding(len(vocabulary) + 1,\n",
    "                                     self.embedding_dimension)\n",
    "    ])\n",
    "\n",
    "    if use_cross_layer:\n",
    "      self._cross_layer = tfrs.layers.dcn.Cross(\n",
    "          projection_dim=projection_dim,\n",
    "          kernel_initializer=\"glorot_uniform\")\n",
    "    else:\n",
    "      self._cross_layer = None\n",
    "\n",
    "    self._deep_layers = [tf.keras.layers.Dense(layer_size, activation=\"relu\")\n",
    "      for layer_size in deep_layer_sizes]\n",
    "\n",
    "    self._logit_layer = tf.keras.layers.Dense(1)\n",
    "\n",
    "    self.task = tfrs.tasks.Ranking(\n",
    "      loss=tf.keras.losses.MeanSquaredError(),\n",
    "      metrics=[tf.keras.metrics.RootMeanSquaredError(\"RMSE\")]\n",
    "    )\n",
    "\n",
    "  def call(self, features):\n",
    "    # Concatenate embeddings\n",
    "    embeddings = []\n",
    "    for feature_name in self._all_features:\n",
    "      embedding_fn = self._embeddings[feature_name]\n",
    "      embeddings.append(embedding_fn(features[feature_name]))\n",
    "\n",
    "    x = tf.concat(embeddings, axis=1)\n",
    "\n",
    "    # Build Cross Network\n",
    "    if self._cross_layer is not None:\n",
    "      x = self._cross_layer(x)\n",
    "    \n",
    "    # Build Deep Network\n",
    "    for deep_layer in self._deep_layers:\n",
    "      x = deep_layer(x)\n",
    "\n",
    "    return self._logit_layer(x)\n",
    "\n",
    "  def compute_loss(self, features, training=False):\n",
    "    labels = features.pop(\"user_rating\")\n",
    "    scores = self(features)\n",
    "    return self.task(\n",
    "        labels=labels,\n",
    "        predictions=scores,\n",
    "    )"
   ]
  },
  {
   "cell_type": "markdown",
   "metadata": {
    "id": "jDiRfzwVW9LH"
   },
   "source": [
    "### Model training\n",
    "We shuffle, batch and cache the training and test data. \n"
   ]
  },
  {
   "cell_type": "code",
   "execution_count": null,
   "metadata": {
    "id": "qeFjmfUbgzcS"
   },
   "outputs": [],
   "source": [
    "cached_train = train.shuffle(100_000).batch(8192).cache()\n",
    "cached_test = test.batch(4096).cache()"
   ]
  },
  {
   "cell_type": "markdown",
   "metadata": {
    "id": "5adSI3yOt2VQ"
   },
   "source": [
    "Let's define a function that runs a model multiple times and returns the model's RMSE mean and standard deviation out of multiple runs."
   ]
  },
  {
   "cell_type": "code",
   "execution_count": null,
   "metadata": {
    "id": "gTDk3GloquHO"
   },
   "outputs": [],
   "source": [
    "def run_models(use_cross_layer, deep_layer_sizes, projection_dim=None, num_runs=5):\n",
    "  models = []\n",
    "  rmses = []\n",
    "\n",
    "  for i in range(num_runs):\n",
    "    model = DCN(use_cross_layer=use_cross_layer,\n",
    "                deep_layer_sizes=deep_layer_sizes,\n",
    "                projection_dim=projection_dim)\n",
    "    model.compile(optimizer=tf.keras.optimizers.Adam(learning_rate))\n",
    "    models.append(model)\n",
    "\n",
    "    model.fit(cached_train, epochs=epochs, verbose=False)\n",
    "    metrics = model.evaluate(cached_test, return_dict=True)\n",
    "    rmses.append(metrics[\"RMSE\"])\n",
    "\n",
    "  mean, stdv = np.average(rmses), np.std(rmses)\n",
    "\n",
    "  return {\"model\": models, \"mean\": mean, \"stdv\": stdv}"
   ]
  },
  {
   "cell_type": "markdown",
   "metadata": {
    "id": "ZRHjQ8g2h2-k"
   },
   "source": [
    "We set some hyper-parameters for the models. Note that these hyper-parameters are set globally for all the models for demonstration purpose. If you want to obtain the best performance for each model, or conduct a fair comparison among models, then we'd suggest you to fine-tune the hyper-parameters. Remember that the model architecture and optimization schemes are intertwined."
   ]
  },
  {
   "cell_type": "code",
   "execution_count": null,
   "metadata": {
    "id": "Zy3kWb5Dh0E7"
   },
   "outputs": [],
   "source": [
    "epochs = 8\n",
    "learning_rate = 0.01"
   ]
  },
  {
   "cell_type": "markdown",
   "metadata": {
    "id": "Nz3ftiQLXdC0"
   },
   "source": [
    "**DCN (stacked).** We first train a DCN model with a stacked structure, that is, the inputs are fed to a cross network followed by a deep network.\n",
    "<div>\n",
    "<center>\n",
    "<img src=\"http://drive.google.com/uc?export=view&id=1X8qoMtIYKJz4yBYifvfw4QpAwrjr70e_\" width=\"140\"/>\n",
    "</center>\n",
    "</div>\n"
   ]
  },
  {
   "cell_type": "code",
   "execution_count": null,
   "metadata": {
    "id": "hiuYPJWhgw3J"
   },
   "outputs": [],
   "source": [
    "dcn_result = run_models(use_cross_layer=True,\n",
    "                        deep_layer_sizes=[192, 192])"
   ]
  },
  {
   "cell_type": "markdown",
   "metadata": {
    "id": "ZwTn_UpDX_iO"
   },
   "source": [
    "**Low-rank DCN.** To reduce the training and serving cost, we leverage low-rank techniques to approximate the DCN weight matrices. The rank is passed in through argument `projection_dim`; a smaller `projection_dim` results in a lower cost. Note that `projection_dim` needs to be smaller than (input size)/2 to reduce the cost. In practice, we've observed using low-rank DCN with rank (input size)/4 consistently preserved the accuracy of a full-rank DCN.\n",
    "\n",
    "<div>\n",
    "<center>\n",
    "<img src=\"http://drive.google.com/uc?export=view&id=1ZZfUTNdxjGAaAuwNrweKkLJ1PGxMmiCm\" width=\"400\"/>\n",
    "</center>\n",
    "</div>\n"
   ]
  },
  {
   "cell_type": "code",
   "execution_count": null,
   "metadata": {
    "id": "NYxbHI7ZNJX7"
   },
   "outputs": [],
   "source": [
    "dcn_lr_result = run_models(use_cross_layer=True,\n",
    "                           projection_dim=20,\n",
    "                           deep_layer_sizes=[192, 192])"
   ]
  },
  {
   "cell_type": "markdown",
   "metadata": {
    "id": "5O5AoNOdaQ80"
   },
   "source": [
    "**DNN.** We train a same-sized DNN model as a reference."
   ]
  },
  {
   "cell_type": "code",
   "execution_count": null,
   "metadata": {
    "id": "iBPpwD4cGtXF"
   },
   "outputs": [],
   "source": [
    "dnn_result = run_models(use_cross_layer=False,\n",
    "                        deep_layer_sizes=[192, 192, 192])"
   ]
  },
  {
   "cell_type": "markdown",
   "metadata": {
    "id": "cBY0ljpl3_k5"
   },
   "source": [
    "We evaluate the model on test data and report the mean and standard deviation out of 5 runs."
   ]
  },
  {
   "cell_type": "code",
   "execution_count": null,
   "metadata": {
    "id": "a1yj3pp0glEL"
   },
   "outputs": [],
   "source": [
    "print(\"DCN            RMSE mean: {:.4f}, stdv: {:.4f}\".format(\n",
    "    dcn_result[\"mean\"], dcn_result[\"stdv\"]))\n",
    "print(\"DCN (low-rank) RMSE mean: {:.4f}, stdv: {:.4f}\".format(\n",
    "    dcn_lr_result[\"mean\"], dcn_lr_result[\"stdv\"]))\n",
    "print(\"DNN            RMSE mean: {:.4f}, stdv: {:.4f}\".format(\n",
    "    dnn_result[\"mean\"], dnn_result[\"stdv\"]))\n"
   ]
  },
  {
   "cell_type": "markdown",
   "metadata": {
    "id": "K076UbT1nnq3"
   },
   "source": [
    "We see that DCN achieved better performance than a same-sized DNN with ReLU layers. Moreover, the low-rank DCN was able to reduce parameters while maintaining the accuracy."
   ]
  },
  {
   "cell_type": "markdown",
   "metadata": {
    "id": "eSF0gNLGX1Za"
   },
   "source": [
    "**More on DCN.** Besides what've been demonstrated above, there are more creative yet practically useful ways to utilize DCN [[1](https://arxiv.org/pdf/2008.13535.pdf)]. \n",
    "\n",
    "*   *DCN with a parallel structure*.  The inputs are fed in parallel to a cross network and a deep network.\n",
    "\n",
    "*   *Concatenating cross layers.* The inputs are fed in parallel to multiple cross layers to capture complementary feature crosses.\n",
    "\n",
    "<div class=\"fig figcenter fighighlight\">\n",
    "<center>\n",
    "  <img src=\"http://drive.google.com/uc?export=view&id=11RpNuj9s0OgSav9TUuGA7v7PuFLL6nVR\" hspace=40 width=\"600\" style=\"display:block;\">\n",
    "  <div class=\"figcaption\">\n",
    "  <b>Left</b>: DCN with a parallel structure; <b>Right</b>: Concatenating cross layers. \n",
    "  </div>\n",
    "  </center>\n",
    "</div>"
   ]
  },
  {
   "cell_type": "markdown",
   "metadata": {
    "id": "GEi9PtCEdyma"
   },
   "source": [
    "### Model understanding\n",
    "\n",
    "The weight matrix $W$ in DCN reveals what feature crosses the model has learned to be important. Recall that in the previous toy example, the importance of interactions between the $i$-th and $j$-th features is captured by the ($i, j$)-th element of $W$.\n",
    "\n",
    "What's a bit different here is that the feature embeddings are of size 32 instead of size 1. Hence, the importance will be characterized by the $(i, j)$-th block\n",
    "$W_{i,j}$ which is of dimension 32 by 32.\n",
    "In the following, we visualize the Frobenius norm [[4](https://en.wikipedia.org/wiki/Matrix_norm)] $||W_{i,j}||_F$ of each block, and a larger norm would suggest higher importance (assuming the features' embeddings are of similar scales).\n",
    "\n",
    "Besides block norm, we could also visualize the entire matrix, or the mean/median/max value of each block."
   ]
  },
  {
   "cell_type": "code",
   "execution_count": null,
   "metadata": {
    "id": "47ibaEBJxOoe"
   },
   "outputs": [],
   "source": [
    "model = dcn_result[\"model\"][0]\n",
    "mat = model._cross_layer._dense.kernel\n",
    "features = model._all_features\n",
    "\n",
    "block_norm = np.ones([len(features), len(features)])\n",
    "\n",
    "dim = model.embedding_dimension\n",
    "\n",
    "# Compute the norms of the blocks.\n",
    "for i in range(len(features)):\n",
    "  for j in range(len(features)):\n",
    "    block = mat[i * dim:(i + 1) * dim,\n",
    "                j * dim:(j + 1) * dim]\n",
    "    block_norm[i,j] = np.linalg.norm(block, ord=\"fro\")\n",
    "\n",
    "plt.figure(figsize=(9,9))\n",
    "im = plt.matshow(block_norm, cmap=plt.cm.Blues)\n",
    "ax = plt.gca()\n",
    "divider = make_axes_locatable(plt.gca())\n",
    "cax = divider.append_axes(\"right\", size=\"5%\", pad=0.05)\n",
    "plt.colorbar(im, cax=cax)\n",
    "cax.tick_params(labelsize=10) \n",
    "_ = ax.set_xticklabels([\"\"] + features, rotation=45, ha=\"left\", fontsize=10)\n",
    "_ = ax.set_yticklabels([\"\"] + features, fontsize=10)"
   ]
  },
  {
   "cell_type": "markdown",
   "metadata": {
    "id": "pQH-moYd6ZKC"
   },
   "source": [
    "That's all for this colab! We hope that you have enjoyed learning some basics of DCN and common ways to utilize it. If you are interested in learning more, you could check out two relevant papers: [DCN-v1-paper](https://arxiv.org/pdf/1708.05123.pdf), [DCN-v2-paper](https://arxiv.org/pdf/2008.13535.pdf)."
   ]
  },
  {
   "cell_type": "markdown",
   "metadata": {
    "id": "FfAGbq2es2Yn"
   },
   "source": [
    "---\n",
    "\n",
    "\n",
    "##References\n",
    "[DCN V2: Improved Deep & Cross Network and Practical Lessons for Web-scale Learning to Rank Systems](https://arxiv.org/pdf/2008.13535.pdf). \\\n",
    "*Ruoxi Wang, Rakesh Shivanna, Derek Zhiyuan Cheng, Sagar Jain, Dong Lin, Lichan Hong, Ed Chi. (2020)*\n",
    "\n",
    "\n",
    "[Deep & Cross Network for Ad Click Predictions](https://arxiv.org/pdf/1708.05123.pdf). \\\n",
    "*Ruoxi Wang, Bin Fu, Gang Fu, Mingliang Wang. (AdKDD 2017)*"
   ]
  }
 ],
 "metadata": {
  "colab": {
   "collapsed_sections": [],
   "name": "dcn.ipynb",
   "private_outputs": true,
   "provenance": [],
   "toc_visible": true
  },
  "kernelspec": {
   "display_name": "Python 3",
   "language": "python",
   "name": "python3"
  },
  "language_info": {
   "codemirror_mode": {
    "name": "ipython",
    "version": 3
   },
   "file_extension": ".py",
   "mimetype": "text/x-python",
   "name": "python",
   "nbconvert_exporter": "python",
   "pygments_lexer": "ipython3",
   "version": "3.8.8"
  }
 },
 "nbformat": 4,
 "nbformat_minor": 1
}
