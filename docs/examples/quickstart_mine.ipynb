{
 "cells": [
  {
   "cell_type": "markdown",
   "id": "4f988351",
   "metadata": {},
   "source": [
    "In this tutorial, we build a simple matrix factorization model using the MovieLens 100K dataset with TFRS. We can use this model to recommend movies for a given user.\n",
    "\n",
    "### Import TFRS\n",
    "First, install and import TFRS:"
   ]
  },
  {
   "cell_type": "code",
   "execution_count": 2,
   "id": "679634b6",
   "metadata": {},
   "outputs": [],
   "source": [
    "# !pip install tensorflow-recommenders\n",
    "# !pip install --upgrade tensorflow-datasets"
   ]
  },
  {
   "cell_type": "code",
   "execution_count": 4,
   "id": "4ed74780",
   "metadata": {},
   "outputs": [],
   "source": [
    "from typing import Dict, Text\n",
    "\n",
    "import numpy as np\n",
    "import tensorflow as tf\n",
    "\n",
    "import tensorflow_datasets as tfds\n",
    "import tensorflow_recommenders as tfrs"
   ]
  },
  {
   "cell_type": "markdown",
   "id": "2d505b2c",
   "metadata": {},
   "source": [
    "Read the data"
   ]
  },
  {
   "cell_type": "code",
   "execution_count": 5,
   "id": "e7263d29",
   "metadata": {},
   "outputs": [],
   "source": [
    "# Ratings data.\n",
    "ratings = tfds.load('movielens/100k-ratings', split='train')"
   ]
  },
  {
   "cell_type": "code",
   "execution_count": 17,
   "id": "efbfa29e",
   "metadata": {},
   "outputs": [
    {
     "data": {
      "text/plain": [
       "tensorflow.python.data.ops.dataset_ops.PrefetchDataset"
      ]
     },
     "execution_count": 17,
     "metadata": {},
     "output_type": "execute_result"
    }
   ],
   "source": [
    "type(ratings)"
   ]
  },
  {
   "cell_type": "code",
   "execution_count": 30,
   "id": "3945a0f0",
   "metadata": {},
   "outputs": [
    {
     "data": {
      "text/plain": [
       "100000"
      ]
     },
     "execution_count": 30,
     "metadata": {},
     "output_type": "execute_result"
    }
   ],
   "source": [
    "ratings.cardinality().numpy()"
   ]
  },
  {
   "cell_type": "code",
   "execution_count": 24,
   "id": "abbc5d61",
   "metadata": {},
   "outputs": [
    {
     "data": {
      "text/plain": [
       "{'bucketized_user_age': 45.0,\n",
       " 'movie_genres': array([7]),\n",
       " 'movie_id': b'357',\n",
       " 'movie_title': b\"One Flew Over the Cuckoo's Nest (1975)\",\n",
       " 'raw_user_age': 46.0,\n",
       " 'timestamp': 879024327,\n",
       " 'user_gender': True,\n",
       " 'user_id': b'138',\n",
       " 'user_occupation_label': 4,\n",
       " 'user_occupation_text': b'doctor',\n",
       " 'user_rating': 4.0,\n",
       " 'user_zip_code': b'53211'}"
      ]
     },
     "execution_count": 24,
     "metadata": {},
     "output_type": "execute_result"
    }
   ],
   "source": [
    "# ratings.take(1).as_numpy_iterator().next() # ['movie_genres']\n",
    "ratings.as_numpy_iterator().next()"
   ]
  },
  {
   "cell_type": "code",
   "execution_count": 20,
   "id": "6d93c5f2",
   "metadata": {},
   "outputs": [
    {
     "name": "stdout",
     "output_type": "stream",
     "text": [
      "\u001b[1mDownloading and preparing dataset 4.70 MiB (download: 4.70 MiB, generated: 150.35 KiB, total: 4.84 MiB) to /home/aman/tensorflow_datasets/movielens/100k-movies/0.1.0...\u001b[0m\n"
     ]
    },
    {
     "data": {
      "application/vnd.jupyter.widget-view+json": {
       "model_id": "a482555086e9404daddd909277fd7153",
       "version_major": 2,
       "version_minor": 0
      },
      "text/plain": [
       "Dl Completed...: 0 url [00:00, ? url/s]"
      ]
     },
     "metadata": {},
     "output_type": "display_data"
    },
    {
     "data": {
      "application/vnd.jupyter.widget-view+json": {
       "model_id": "6ced380b00a34af880c5c3aface4cb0f",
       "version_major": 2,
       "version_minor": 0
      },
      "text/plain": [
       "Dl Size...: 0 MiB [00:00, ? MiB/s]"
      ]
     },
     "metadata": {},
     "output_type": "display_data"
    },
    {
     "data": {
      "application/vnd.jupyter.widget-view+json": {
       "model_id": "0c7712e0a517433ab3f1f3f879c3fce4",
       "version_major": 2,
       "version_minor": 0
      },
      "text/plain": [
       "Extraction completed...: 0 file [00:00, ? file/s]"
      ]
     },
     "metadata": {},
     "output_type": "display_data"
    },
    {
     "data": {
      "application/vnd.jupyter.widget-view+json": {
       "model_id": "",
       "version_major": 2,
       "version_minor": 0
      },
      "text/plain": [
       "Generating splits...:   0%|          | 0/1 [00:00<?, ? splits/s]"
      ]
     },
     "metadata": {},
     "output_type": "display_data"
    },
    {
     "data": {
      "application/vnd.jupyter.widget-view+json": {
       "model_id": "",
       "version_major": 2,
       "version_minor": 0
      },
      "text/plain": [
       "Generating train examples...:   0%|          | 0/1682 [00:00<?, ? examples/s]"
      ]
     },
     "metadata": {},
     "output_type": "display_data"
    },
    {
     "data": {
      "application/vnd.jupyter.widget-view+json": {
       "model_id": "",
       "version_major": 2,
       "version_minor": 0
      },
      "text/plain": [
       "Shuffling movielens-train.tfrecord...:   0%|          | 0/1682 [00:00<?, ? examples/s]"
      ]
     },
     "metadata": {},
     "output_type": "display_data"
    },
    {
     "name": "stdout",
     "output_type": "stream",
     "text": [
      "\u001b[1mDataset movielens downloaded and prepared to /home/aman/tensorflow_datasets/movielens/100k-movies/0.1.0. Subsequent calls will reuse this data.\u001b[0m\n"
     ]
    }
   ],
   "source": [
    "# Features of all the available movies.\n",
    "movies = tfds.load('movielens/100k-movies', split='train')"
   ]
  },
  {
   "cell_type": "code",
   "execution_count": 26,
   "id": "31144269",
   "metadata": {},
   "outputs": [
    {
     "data": {
      "text/plain": [
       "{'movie_genres': array([4]),\n",
       " 'movie_id': b'1681',\n",
       " 'movie_title': b'You So Crazy (1994)'}"
      ]
     },
     "execution_count": 26,
     "metadata": {},
     "output_type": "execute_result"
    }
   ],
   "source": [
    "movies.as_numpy_iterator().next()"
   ]
  },
  {
   "cell_type": "code",
   "execution_count": 32,
   "id": "f8dca6fa",
   "metadata": {},
   "outputs": [
    {
     "data": {
      "text/plain": [
       "1682"
      ]
     },
     "execution_count": 32,
     "metadata": {},
     "output_type": "execute_result"
    }
   ],
   "source": [
    "movies.cardinality().numpy()"
   ]
  },
  {
   "cell_type": "code",
   "execution_count": 33,
   "id": "8967883d",
   "metadata": {},
   "outputs": [
    {
     "data": {
      "text/plain": [
       "1682"
      ]
     },
     "execution_count": 33,
     "metadata": {},
     "output_type": "execute_result"
    }
   ],
   "source": [
    "len(movies)"
   ]
  },
  {
   "cell_type": "code",
   "execution_count": 34,
   "id": "c04b70ac",
   "metadata": {},
   "outputs": [
    {
     "name": "stdout",
     "output_type": "stream",
     "text": [
      "{'movie_genres': <tf.Tensor: shape=(1,), dtype=int64, numpy=array([4])>, 'movie_id': <tf.Tensor: shape=(), dtype=string, numpy=b'1681'>, 'movie_title': <tf.Tensor: shape=(), dtype=string, numpy=b'You So Crazy (1994)'>}\n",
      "{'movie_genres': array([4]), 'movie_id': b'1681', 'movie_title': b'You So Crazy (1994)'}\n",
      "{'movie_genres': array([4, 7]), 'movie_id': b'1457', 'movie_title': b'Love Is All There Is (1996)'}\n",
      "{'movie_genres': array([1, 3]), 'movie_id': b'500', 'movie_title': b'Fly Away Home (1996)'}\n",
      "{'movie_genres': array([0]), 'movie_id': b'838', 'movie_title': b'In the Line of Duty 2 (1987)'}\n",
      "{'movie_genres': array([7]), 'movie_id': b'1648', 'movie_title': b'Niagara, Niagara (1997)'}\n",
      "{'movie_genres': array([5]), 'movie_id': b'547', 'movie_title': b\"Young Poisoner's Handbook, The (1995)\"}\n",
      "{'movie_genres': array([7]), 'movie_id': b'387', 'movie_title': b'Age of Innocence, The (1993)'}\n",
      "{'movie_genres': array([7]), 'movie_id': b'1495', 'movie_title': b'Flirt (1995)'}\n",
      "{'movie_genres': array([7]), 'movie_id': b'817', 'movie_title': b'Frisk (1995)'}\n",
      "{'movie_genres': array([17]), 'movie_id': b'267', 'movie_title': b'unknown'}\n",
      "{'movie_genres': array([7]), 'movie_id': b'1637', 'movie_title': b'Girls Town (1996)'}\n",
      "{'movie_genres': array([7]), 'movie_id': b'1396', 'movie_title': b'Stonewall (1995)'}\n",
      "{'movie_genres': array([ 0,  1, 14, 18]), 'movie_id': b'498', 'movie_title': b'African Queen, The (1951)'}\n",
      "{'movie_genres': array([ 7, 16]), 'movie_id': b'852', 'movie_title': b'Bloody Child, The (1996)'}\n",
      "{'movie_genres': array([ 0, 16]), 'movie_id': b'685', 'movie_title': b'Executive Decision (1996)'}\n",
      "{'movie_genres': array([0, 1, 4, 5]), 'movie_id': b'231', 'movie_title': b'Batman Returns (1992)'}\n",
      "{'movie_genres': array([ 4, 18]), 'movie_id': b'719', 'movie_title': b'Canadian Bacon (1994)'}\n",
      "{'movie_genres': array([3, 7, 8]), 'movie_id': b'308', 'movie_title': b'FairyTale: A True Story (1997)'}\n",
      "{'movie_genres': array([10]), 'movie_id': b'445', 'movie_title': b'Body Snatcher, The (1945)'}\n",
      "{'movie_genres': array([ 4, 14]), 'movie_id': b'486', 'movie_title': b'Sabrina (1954)'}\n"
     ]
    }
   ],
   "source": [
    "for e in movies.take(1):\n",
    "    print(e)\n",
    "    \n",
    "for i in movies.take(20).as_numpy_iterator():\n",
    "    print(i)"
   ]
  },
  {
   "cell_type": "code",
   "execution_count": 36,
   "id": "c5a1863d",
   "metadata": {},
   "outputs": [
    {
     "data": {
      "text/plain": [
       "{'movie_title': b\"One Flew Over the Cuckoo's Nest (1975)\", 'user_id': b'138'}"
      ]
     },
     "execution_count": 36,
     "metadata": {},
     "output_type": "execute_result"
    }
   ],
   "source": [
    "# Select the basic features.\n",
    "ratings = ratings.map( lambda x : { 'movie_title' : x['movie_title'],\n",
    "                                    'user_id' : x['user_id']\n",
    "                                  }\n",
    "                     )\n",
    "ratings.as_numpy_iterator().next()"
   ]
  },
  {
   "cell_type": "code",
   "execution_count": 37,
   "id": "d4c642fe",
   "metadata": {},
   "outputs": [
    {
     "name": "stdout",
     "output_type": "stream",
     "text": [
      "tf.Tensor(b'You So Crazy (1994)', shape=(), dtype=string)\n",
      "tf.Tensor(b'Love Is All There Is (1996)', shape=(), dtype=string)\n",
      "tf.Tensor(b'Fly Away Home (1996)', shape=(), dtype=string)\n",
      "tf.Tensor(b'In the Line of Duty 2 (1987)', shape=(), dtype=string)\n",
      "tf.Tensor(b'Niagara, Niagara (1997)', shape=(), dtype=string)\n",
      "b'You So Crazy (1994)'\n",
      "b'Love Is All There Is (1996)'\n",
      "b'Fly Away Home (1996)'\n",
      "b'In the Line of Duty 2 (1987)'\n",
      "b'Niagara, Niagara (1997)'\n"
     ]
    }
   ],
   "source": [
    "# Select the basic features.\n",
    "movies = movies.map(lambda x: x['movie_title'])\n",
    "for i in movies.take(5):\n",
    "    print(i)\n",
    "for i in movies.take(5).as_numpy_iterator():\n",
    "    print(i)"
   ]
  },
  {
   "cell_type": "code",
   "execution_count": 58,
   "id": "b2dd0425",
   "metadata": {},
   "outputs": [],
   "source": [
    "ratings_map = ratings.map(lambda x: x['user_id'])"
   ]
  },
  {
   "cell_type": "markdown",
   "id": "5810536e",
   "metadata": {},
   "source": [
    "Build vocabularies to convert user ids and movie titles into integer indices for embedding layers:"
   ]
  },
  {
   "cell_type": "code",
   "execution_count": 60,
   "id": "98b7d8fe",
   "metadata": {},
   "outputs": [],
   "source": [
    "user_ids_vocab = tf.keras.layers.experimental.preprocessing.StringLookup(mask_token=None)\n",
    "user_ids_vocab.adapt(ratings_map)"
   ]
  },
  {
   "cell_type": "code",
   "execution_count": 62,
   "id": "ec3405af",
   "metadata": {},
   "outputs": [
    {
     "data": {
      "text/plain": [
       "<keras.layers.preprocessing.string_lookup.StringLookup at 0x7f6c52753a60>"
      ]
     },
     "execution_count": 62,
     "metadata": {},
     "output_type": "execute_result"
    }
   ],
   "source": [
    "user_ids_vocab"
   ]
  },
  {
   "cell_type": "code",
   "execution_count": 42,
   "id": "6b0efae0",
   "metadata": {},
   "outputs": [],
   "source": [
    "movies_ids_vocab = tf.keras.layers.experimental.preprocessing.StringLookup(mask_token=None)\n",
    "movies_ids_vocab.adapt(movies)"
   ]
  },
  {
   "cell_type": "code",
   "execution_count": 43,
   "id": "c3a23df7",
   "metadata": {},
   "outputs": [],
   "source": [
    "emb_dim = 64\n",
    "user_model = tf.keras.Sequential([\n",
    "    user_ids_vocab, tf.keras.layers.Embedding(user_ids_vocab.vocabulary_size(), emb_dim)\n",
    "])\n",
    "movies_model = tf.keras.Sequential([\n",
    "    movies_ids_vocab, tf.keras.layers.Embedding(movies_ids_vocab.vocabulary_size(), emb_dim)\n",
    "])"
   ]
  },
  {
   "cell_type": "code",
   "execution_count": 50,
   "id": "47f0da00",
   "metadata": {},
   "outputs": [
    {
     "name": "stdout",
     "output_type": "stream",
     "text": [
      "tf.Tensor(\n",
      "[ 0.00488276 -0.02126308  0.0213975   0.02727533  0.01779744 -0.01035053\n",
      "  0.03386256  0.01611245  0.02353081 -0.01910284 -0.01646175  0.01832548\n",
      "  0.04249639 -0.02181196 -0.02966985 -0.00986928 -0.03669081  0.02527907\n",
      " -0.03758503 -0.03262364 -0.01505643 -0.00633571  0.04587204  0.02371586\n",
      " -0.04684955  0.00296987 -0.03228796  0.02646155  0.02738008  0.04429741\n",
      "  0.01198268 -0.01738922  0.00433515 -0.0268191   0.0366516   0.04281712\n",
      " -0.00016258 -0.02289463  0.01001792  0.03003721  0.03990978  0.02464109\n",
      " -0.04178623 -0.0067494   0.01700825 -0.02018547 -0.02889882 -0.02941214\n",
      " -0.0332037  -0.04823159 -0.03958845 -0.02992287 -0.03452659  0.0463689\n",
      "  0.00271047 -0.02308537  0.01107264  0.04291209  0.01981464  0.04710691\n",
      " -0.00619587  0.00649364  0.01641463  0.00102947], shape=(64,), dtype=float32)\n"
     ]
    }
   ],
   "source": [
    "for _ in movies.take(1).map(movies_model):\n",
    "    print(_)"
   ]
  },
  {
   "cell_type": "code",
   "execution_count": 55,
   "id": "8f4a2c46",
   "metadata": {},
   "outputs": [
    {
     "data": {
      "text/plain": [
       "b'138'"
      ]
     },
     "execution_count": 55,
     "metadata": {},
     "output_type": "execute_result"
    }
   ],
   "source": [
    "ratings.as_numpy_iterator().next()['user_id']"
   ]
  },
  {
   "cell_type": "code",
   "execution_count": 63,
   "id": "1651c15f",
   "metadata": {},
   "outputs": [
    {
     "name": "stdout",
     "output_type": "stream",
     "text": [
      "tf.Tensor(\n",
      "[-0.0366211   0.00094957 -0.04706112  0.04736788 -0.04103935 -0.03584119\n",
      " -0.01867415  0.0168316  -0.03883757 -0.01939794 -0.04876237  0.0245409\n",
      "  0.03740073  0.04787475  0.0398914   0.04754927  0.03827341 -0.03269073\n",
      "  0.0436799   0.01101138 -0.02682875 -0.04531032 -0.01816456  0.03769524\n",
      "  0.04040089 -0.03394334 -0.04823234  0.02967893  0.0279496   0.04936758\n",
      "  0.02757091  0.03281725 -0.00936754 -0.03276924  0.04045517 -0.04859971\n",
      "  0.04373621 -0.01043211 -0.04799215  0.04669709 -0.00698922 -0.03767061\n",
      "  0.02569452  0.02091347 -0.00738947  0.00604408  0.02939544  0.01218835\n",
      " -0.00622797  0.03101913  0.00196692  0.01752147  0.01200528 -0.04688732\n",
      " -0.02778424 -0.00863976  0.02190168  0.03014113 -0.01168313  0.02974044\n",
      "  0.03915513  0.03425856 -0.03021585 -0.0245313 ], shape=(64,), dtype=float32)\n",
      "CPU times: user 71.9 ms, sys: 12 ms, total: 83.9 ms\n",
      "Wall time: 79.1 ms\n"
     ]
    }
   ],
   "source": [
    "%%time\n",
    "# for _ in ratings.map(lambda x: x['user_id']).map(user_model):\n",
    "for _ in ratings_map.map(user_model):\n",
    "    print(_)\n",
    "    break"
   ]
  },
  {
   "cell_type": "markdown",
   "id": "8f1351e3",
   "metadata": {},
   "source": [
    "Define the two models and the retrieval task."
   ]
  },
  {
   "cell_type": "code",
   "execution_count": null,
   "id": "7538fe30",
   "metadata": {},
   "outputs": [],
   "source": [
    "emb_dim = 64\n",
    "\n",
    "# Define user and movie models.\n",
    "user_model = tf.keras.Sequential([\n",
    "    user_ids_vocab, tf.keras.layers.Embedding(user_ids_vocab.vocabulary_size(), emb_dim)\n",
    "])\n",
    "\n",
    "movies_model = tf.keras.Sequential([\n",
    "    movies_ids_vocab, tf.keras.layers.Embedding(movies_ids_vocab.vocabulary_size(), emb_dim)\n",
    "])"
   ]
  },
  {
   "cell_type": "markdown",
   "id": "df2e68f2",
   "metadata": {},
   "source": [
    "### Metrics\n",
    "\n",
    "### vvvImp & Insightful - \n",
    "In our training data we have positive (user, movie) pairs. To figure out how good our model is, we need to compare the affinity score that the model calculates for this pair to the scores of all the other possible candidates: if the score for the positive pair is higher than for all other candidates, our model is highly accurate.\n",
    "\n",
    "To do this, we can use the `tfrs.metrics.FactorizedTopK` metric. The metric has one required argument: the dataset of candidates that are used as implicit negatives for evaluation.\n",
    "\n",
    "In our case, that's the `movies` dataset, converted into embeddings via our movie model:"
   ]
  },
  {
   "cell_type": "code",
   "execution_count": 68,
   "id": "6256e208",
   "metadata": {},
   "outputs": [],
   "source": [
    "'''\n",
    "Refer - https://github.com/kewlcoder/recommenders/blob/main/docs/examples/basic_retrieval_mine.ipynb\n",
    "for a better application and an elaborate explanation. \n",
    "Retrieval task object: a convenience wrapper that bundles together the loss function and metric computation:\n",
    "\n",
    "It probably means - check if the positive data point(true label) comes in the\n",
    "top-K of the points.\n",
    "\n",
    "Defined in this link - \n",
    "https://github.com/tensorflow/recommenders/blob/v0.6.0/tensorflow_recommenders/metrics/factorized_top_k.py#L25-L108\n",
    "\n",
    "Computes metrics for across top K candidates surfaced by a retrieval model.\n",
    "The default metric is top K categorical accuracy: how often the true candidate is in the top K candidates\n",
    "for a given query.\n",
    "For e.g., how frequently does the distance b/w a user_embeddings[i] and movies_embeddings[i] is in the topK lowest\n",
    "distances b/w user_embeddings[i] and all elements of \"movies\".\n",
    "'''\n",
    "# Define your objectives.\n",
    "task = tfrs.tasks.Retrieval( metrics=tfrs.metrics.FactorizedTopK(movies.batch(128).map(movies_model) ) )"
   ]
  },
  {
   "cell_type": "markdown",
   "id": "d8e2f377",
   "metadata": {},
   "source": [
    "### Define a model\n",
    "We can define a TFRS model by inheriting from tfrs.Model and implementing the compute_loss method:"
   ]
  },
  {
   "cell_type": "code",
   "execution_count": 69,
   "id": "5aabb0c7",
   "metadata": {},
   "outputs": [],
   "source": [
    "class MovieLensModel(tfrs.Model):\n",
    "    def __init__(self, user_model: tf.keras.Model, movies_model: tf.keras.Model, task : tfrs.tasks.Retrieval):\n",
    "        \n",
    "        super().__init__()\n",
    "        \n",
    "        self.user_model = user_model\n",
    "        self.movies_model = movies_model\n",
    "        \n",
    "        self.task = task\n",
    "        \n",
    "    '''\n",
    "        Refer the description in the \"class Model\" definition -\n",
    "        https://github.com/tensorflow/recommenders/blob/main/tensorflow_recommenders/models/base.py\n",
    "    '''\n",
    "    def compute_loss(self, features: Dict[Text, tf.Tensor], training=False) -> tf.Tensor:\n",
    "        print(\"computing loss\")\n",
    "        # for every rating, calculate the user as well as movie embeddings\n",
    "        user_embeddings = self.user_model(features['user_id'])\n",
    "        movies_embeddings = self.movies_model(features['movie_title'])\n",
    "        \n",
    "        return self.task(user_embeddings, movies_embeddings)\n",
    "    "
   ]
  },
  {
   "cell_type": "markdown",
   "id": "e0371cca",
   "metadata": {},
   "source": [
    "### Fit and evaluate it.\n",
    "Create the model, train it, and generate predictions:"
   ]
  },
  {
   "cell_type": "code",
   "execution_count": 66,
   "id": "96b7b36e",
   "metadata": {},
   "outputs": [
    {
     "name": "stdout",
     "output_type": "stream",
     "text": [
      "Epoch 1/5\n",
      "computing loss\n",
      "computing loss\n",
      "25/25 [==============================] - 6s 172ms/step - factorized_top_k/top_1_categorical_accuracy: 1.3000e-04 - factorized_top_k/top_5_categorical_accuracy: 0.0018 - factorized_top_k/top_10_categorical_accuracy: 0.0053 - factorized_top_k/top_50_categorical_accuracy: 0.0455 - factorized_top_k/top_100_categorical_accuracy: 0.1013 - loss: 33073.3156 - regularization_loss: 0.0000e+00 - total_loss: 33073.3156\n",
      "Epoch 2/5\n",
      "25/25 [==============================] - 5s 201ms/step - factorized_top_k/top_1_categorical_accuracy: 1.4000e-04 - factorized_top_k/top_5_categorical_accuracy: 0.0053 - factorized_top_k/top_10_categorical_accuracy: 0.0145 - factorized_top_k/top_50_categorical_accuracy: 0.1049 - factorized_top_k/top_100_categorical_accuracy: 0.2126 - loss: 31010.3087 - regularization_loss: 0.0000e+00 - total_loss: 31010.3087\n",
      "Epoch 3/5\n",
      "25/25 [==============================] - 7s 285ms/step - factorized_top_k/top_1_categorical_accuracy: 4.4000e-04 - factorized_top_k/top_5_categorical_accuracy: 0.0078 - factorized_top_k/top_10_categorical_accuracy: 0.0216 - factorized_top_k/top_50_categorical_accuracy: 0.1454 - factorized_top_k/top_100_categorical_accuracy: 0.2689 - loss: 30419.8794 - regularization_loss: 0.0000e+00 - total_loss: 30419.8794\n",
      "Epoch 4/5\n",
      "25/25 [==============================] - 8s 325ms/step - factorized_top_k/top_1_categorical_accuracy: 4.3000e-04 - factorized_top_k/top_5_categorical_accuracy: 0.0099 - factorized_top_k/top_10_categorical_accuracy: 0.0270 - factorized_top_k/top_50_categorical_accuracy: 0.1761 - factorized_top_k/top_100_categorical_accuracy: 0.3137 - loss: 30072.8109 - regularization_loss: 0.0000e+00 - total_loss: 30072.8109\n",
      "Epoch 5/5\n",
      "25/25 [==============================] - 9s 349ms/step - factorized_top_k/top_1_categorical_accuracy: 4.9000e-04 - factorized_top_k/top_5_categorical_accuracy: 0.0111 - factorized_top_k/top_10_categorical_accuracy: 0.0302 - factorized_top_k/top_50_categorical_accuracy: 0.1967 - factorized_top_k/top_100_categorical_accuracy: 0.3450 - loss: 29817.3389 - regularization_loss: 0.0000e+00 - total_loss: 29817.3389\n"
     ]
    },
    {
     "data": {
      "text/plain": [
       "<keras.callbacks.History at 0x7f6c527a2e20>"
      ]
     },
     "execution_count": 66,
     "metadata": {},
     "output_type": "execute_result"
    }
   ],
   "source": [
    "model = MovieLensModel(user_model, movies_model, task)\n",
    "\n",
    "model.compile(optimizer=tf.keras.optimizers.Adagrad(0.5))\n",
    "\n",
    "model.fit(ratings.batch(4096), epochs = 5)"
   ]
  },
  {
   "cell_type": "code",
   "execution_count": 75,
   "id": "21634bc5",
   "metadata": {},
   "outputs": [
    {
     "name": "stdout",
     "output_type": "stream",
     "text": [
      "WARNING:tensorflow:AutoGraph could not transform <function <lambda> at 0x7f6c5305eaf0> and will run it as-is.\n",
      "Cause: could not parse the source code of <function <lambda> at 0x7f6c5305eaf0>: no matching AST found\n",
      "To silence this warning, decorate the function with @tf.autograph.experimental.do_not_convert\n"
     ]
    },
    {
     "name": "stderr",
     "output_type": "stream",
     "text": [
      "WARNING:tensorflow:AutoGraph could not transform <function <lambda> at 0x7f6c5305eaf0> and will run it as-is.\n",
      "Cause: could not parse the source code of <function <lambda> at 0x7f6c5305eaf0>: no matching AST found\n",
      "To silence this warning, decorate the function with @tf.autograph.experimental.do_not_convert\n"
     ]
    },
    {
     "name": "stdout",
     "output_type": "stream",
     "text": [
      "WARNING: AutoGraph could not transform <function <lambda> at 0x7f6c5305eaf0> and will run it as-is.\n",
      "Cause: could not parse the source code of <function <lambda> at 0x7f6c5305eaf0>: no matching AST found\n",
      "To silence this warning, decorate the function with @tf.autograph.experimental.do_not_convert\n",
      "top rec. =  tf.Tensor([b'Rent-a-Kid (1995)' b'Just Cause (1995)' b'Shiloh (1997)'], shape=(3,), dtype=string)\n",
      "CPU times: user 60 ms, sys: 14.1 ms, total: 74.1 ms\n",
      "Wall time: 52.2 ms\n"
     ]
    }
   ],
   "source": [
    "%%time\n",
    "\n",
    "# Use brute-force search to set up retrieval using the trained representations.\n",
    "# default k = 10; pass the query model\n",
    "index = tfrs.layers.factorized_top_k.BruteForce(model.user_model)\n",
    "\n",
    "# First arg - candidate embeddings, second arg - identifiers/names of candidate emb.\n",
    "# old code version\n",
    "# index.index(movies.batch(100).map(movies_model), movies)\n",
    "\n",
    "\n",
    "# Build the retrieval index.\n",
    "index.index_from_dataset(\n",
    "    movies.batch(100).map(lambda title: (title, model.movies_model(title))))\n",
    "\n",
    "\n",
    "# calls the call() func.; passing quer(y|ies) / user_id\n",
    "# Get some recommendations.\n",
    "# Returns tuple of (top candidate scores, top candidate identifiers).\n",
    "_, titles = index(np.array(['42']))\n",
    "\n",
    "print(\"top rec. = \", titles[0, :3])"
   ]
  },
  {
   "cell_type": "code",
   "execution_count": 76,
   "id": "7114175c",
   "metadata": {},
   "outputs": [
    {
     "data": {
      "text/plain": [
       "<tf.Tensor: shape=(10,), dtype=string, numpy=\n",
       "array([b'Rent-a-Kid (1995)', b'Just Cause (1995)', b'Shiloh (1997)',\n",
       "       b'House Arrest (1996)',\n",
       "       b'Winnie the Pooh and the Blustery Day (1968)',\n",
       "       b'Clean Slate (1994)',\n",
       "       b'Far From Home: The Adventures of Yellow Dog (1995)',\n",
       "       b'Halloween: The Curse of Michael Myers (1995)', b'Jack (1996)',\n",
       "       b'Unstrung Heroes (1995)'], dtype=object)>"
      ]
     },
     "execution_count": 76,
     "metadata": {},
     "output_type": "execute_result"
    }
   ],
   "source": [
    "titles[0]"
   ]
  },
  {
   "cell_type": "code",
   "execution_count": 77,
   "id": "1e894ba7",
   "metadata": {},
   "outputs": [
    {
     "data": {
      "text/plain": [
       "<tf.Tensor: shape=(1, 10), dtype=float32, numpy=\n",
       "array([[4.7850003, 4.364386 , 4.2983904, 4.2590117, 3.5862286, 3.299794 ,\n",
       "        3.2943478, 3.2723546, 3.140592 , 3.087105 ]], dtype=float32)>"
      ]
     },
     "execution_count": 77,
     "metadata": {},
     "output_type": "execute_result"
    }
   ],
   "source": [
    "_"
   ]
  },
  {
   "cell_type": "code",
   "execution_count": null,
   "id": "fa829f94",
   "metadata": {},
   "outputs": [],
   "source": []
  }
 ],
 "metadata": {
  "kernelspec": {
   "display_name": "Python 3",
   "language": "python",
   "name": "python3"
  },
  "language_info": {
   "codemirror_mode": {
    "name": "ipython",
    "version": 3
   },
   "file_extension": ".py",
   "mimetype": "text/x-python",
   "name": "python",
   "nbconvert_exporter": "python",
   "pygments_lexer": "ipython3",
   "version": "3.8.8"
  }
 },
 "nbformat": 4,
 "nbformat_minor": 5
}
