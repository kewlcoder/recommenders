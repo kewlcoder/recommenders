{
 "cells": [
  {
   "cell_type": "code",
   "execution_count": 2,
   "id": "679634b6",
   "metadata": {},
   "outputs": [
    {
     "name": "stdout",
     "output_type": "stream",
     "text": [
      "Requirement already satisfied: tensorflow-recommenders in /home/aman/anaconda3/envs/env_hl_tf/lib/python3.8/site-packages (0.5.2)\n",
      "Requirement already satisfied: absl-py>=0.1.6 in /home/aman/anaconda3/envs/env_hl_tf/lib/python3.8/site-packages (from tensorflow-recommenders) (0.12.0)\n",
      "Requirement already satisfied: tensorflow>=2.3.0 in /home/aman/anaconda3/envs/env_hl_tf/lib/python3.8/site-packages (from tensorflow-recommenders) (2.5.0)\n",
      "Requirement already satisfied: six in /home/aman/anaconda3/envs/env_hl_tf/lib/python3.8/site-packages (from absl-py>=0.1.6->tensorflow-recommenders) (1.15.0)\n",
      "Requirement already satisfied: h5py~=3.1.0 in /home/aman/anaconda3/envs/env_hl_tf/lib/python3.8/site-packages (from tensorflow>=2.3.0->tensorflow-recommenders) (3.1.0)\n",
      "Requirement already satisfied: wrapt~=1.12.1 in /home/aman/anaconda3/envs/env_hl_tf/lib/python3.8/site-packages (from tensorflow>=2.3.0->tensorflow-recommenders) (1.12.1)\n",
      "Requirement already satisfied: numpy~=1.19.2 in /home/aman/anaconda3/envs/env_hl_tf/lib/python3.8/site-packages (from tensorflow>=2.3.0->tensorflow-recommenders) (1.19.5)\n",
      "Requirement already satisfied: protobuf>=3.9.2 in /home/aman/anaconda3/envs/env_hl_tf/lib/python3.8/site-packages (from tensorflow>=2.3.0->tensorflow-recommenders) (3.17.3)\n",
      "Requirement already satisfied: typing-extensions~=3.7.4 in /home/aman/anaconda3/envs/env_hl_tf/lib/python3.8/site-packages (from tensorflow>=2.3.0->tensorflow-recommenders) (3.7.4.3)\n",
      "Requirement already satisfied: grpcio~=1.34.0 in /home/aman/anaconda3/envs/env_hl_tf/lib/python3.8/site-packages (from tensorflow>=2.3.0->tensorflow-recommenders) (1.34.0)\n",
      "Requirement already satisfied: tensorboard~=2.5 in /home/aman/anaconda3/envs/env_hl_tf/lib/python3.8/site-packages (from tensorflow>=2.3.0->tensorflow-recommenders) (2.5.0)\n",
      "Requirement already satisfied: gast==0.4.0 in /home/aman/anaconda3/envs/env_hl_tf/lib/python3.8/site-packages (from tensorflow>=2.3.0->tensorflow-recommenders) (0.4.0)\n",
      "Requirement already satisfied: keras-nightly~=2.5.0.dev in /home/aman/anaconda3/envs/env_hl_tf/lib/python3.8/site-packages (from tensorflow>=2.3.0->tensorflow-recommenders) (2.5.0.dev2021032900)\n",
      "Requirement already satisfied: opt-einsum~=3.3.0 in /home/aman/anaconda3/envs/env_hl_tf/lib/python3.8/site-packages (from tensorflow>=2.3.0->tensorflow-recommenders) (3.3.0)\n",
      "Requirement already satisfied: astunparse~=1.6.3 in /home/aman/anaconda3/envs/env_hl_tf/lib/python3.8/site-packages (from tensorflow>=2.3.0->tensorflow-recommenders) (1.6.3)\n",
      "Requirement already satisfied: google-pasta~=0.2 in /home/aman/anaconda3/envs/env_hl_tf/lib/python3.8/site-packages (from tensorflow>=2.3.0->tensorflow-recommenders) (0.2.0)\n",
      "Requirement already satisfied: wheel~=0.35 in /home/aman/anaconda3/envs/env_hl_tf/lib/python3.8/site-packages (from tensorflow>=2.3.0->tensorflow-recommenders) (0.36.2)\n",
      "Requirement already satisfied: tensorflow-estimator<2.6.0,>=2.5.0rc0 in /home/aman/anaconda3/envs/env_hl_tf/lib/python3.8/site-packages (from tensorflow>=2.3.0->tensorflow-recommenders) (2.5.0)\n",
      "Requirement already satisfied: flatbuffers~=1.12.0 in /home/aman/anaconda3/envs/env_hl_tf/lib/python3.8/site-packages (from tensorflow>=2.3.0->tensorflow-recommenders) (1.12)\n",
      "Requirement already satisfied: termcolor~=1.1.0 in /home/aman/anaconda3/envs/env_hl_tf/lib/python3.8/site-packages (from tensorflow>=2.3.0->tensorflow-recommenders) (1.1.0)\n",
      "Requirement already satisfied: keras-preprocessing~=1.1.2 in /home/aman/anaconda3/envs/env_hl_tf/lib/python3.8/site-packages (from tensorflow>=2.3.0->tensorflow-recommenders) (1.1.2)\n",
      "Requirement already satisfied: tensorboard-plugin-wit>=1.6.0 in /home/aman/anaconda3/envs/env_hl_tf/lib/python3.8/site-packages (from tensorboard~=2.5->tensorflow>=2.3.0->tensorflow-recommenders) (1.8.0)\n",
      "Requirement already satisfied: google-auth-oauthlib<0.5,>=0.4.1 in /home/aman/anaconda3/envs/env_hl_tf/lib/python3.8/site-packages (from tensorboard~=2.5->tensorflow>=2.3.0->tensorflow-recommenders) (0.4.5)\n",
      "Requirement already satisfied: werkzeug>=0.11.15 in /home/aman/anaconda3/envs/env_hl_tf/lib/python3.8/site-packages (from tensorboard~=2.5->tensorflow>=2.3.0->tensorflow-recommenders) (1.0.1)\n",
      "Requirement already satisfied: requests<3,>=2.21.0 in /home/aman/anaconda3/envs/env_hl_tf/lib/python3.8/site-packages (from tensorboard~=2.5->tensorflow>=2.3.0->tensorflow-recommenders) (2.25.1)\n",
      "Requirement already satisfied: google-auth<2,>=1.6.3 in /home/aman/anaconda3/envs/env_hl_tf/lib/python3.8/site-packages (from tensorboard~=2.5->tensorflow>=2.3.0->tensorflow-recommenders) (1.34.0)\n",
      "Requirement already satisfied: tensorboard-data-server<0.7.0,>=0.6.0 in /home/aman/anaconda3/envs/env_hl_tf/lib/python3.8/site-packages (from tensorboard~=2.5->tensorflow>=2.3.0->tensorflow-recommenders) (0.6.1)\n",
      "Requirement already satisfied: setuptools>=41.0.0 in /home/aman/anaconda3/envs/env_hl_tf/lib/python3.8/site-packages (from tensorboard~=2.5->tensorflow>=2.3.0->tensorflow-recommenders) (52.0.0.post20210125)\n",
      "Requirement already satisfied: markdown>=2.6.8 in /home/aman/anaconda3/envs/env_hl_tf/lib/python3.8/site-packages (from tensorboard~=2.5->tensorflow>=2.3.0->tensorflow-recommenders) (3.3.4)\n",
      "Requirement already satisfied: rsa<5,>=3.1.4 in /home/aman/anaconda3/envs/env_hl_tf/lib/python3.8/site-packages (from google-auth<2,>=1.6.3->tensorboard~=2.5->tensorflow>=2.3.0->tensorflow-recommenders) (4.7.2)\n",
      "Requirement already satisfied: pyasn1-modules>=0.2.1 in /home/aman/anaconda3/envs/env_hl_tf/lib/python3.8/site-packages (from google-auth<2,>=1.6.3->tensorboard~=2.5->tensorflow>=2.3.0->tensorflow-recommenders) (0.2.8)\n",
      "Requirement already satisfied: cachetools<5.0,>=2.0.0 in /home/aman/anaconda3/envs/env_hl_tf/lib/python3.8/site-packages (from google-auth<2,>=1.6.3->tensorboard~=2.5->tensorflow>=2.3.0->tensorflow-recommenders) (4.2.2)\n",
      "Requirement already satisfied: requests-oauthlib>=0.7.0 in /home/aman/anaconda3/envs/env_hl_tf/lib/python3.8/site-packages (from google-auth-oauthlib<0.5,>=0.4.1->tensorboard~=2.5->tensorflow>=2.3.0->tensorflow-recommenders) (1.3.0)\n",
      "Requirement already satisfied: pyasn1<0.5.0,>=0.4.6 in /home/aman/anaconda3/envs/env_hl_tf/lib/python3.8/site-packages (from pyasn1-modules>=0.2.1->google-auth<2,>=1.6.3->tensorboard~=2.5->tensorflow>=2.3.0->tensorflow-recommenders) (0.4.8)\n",
      "Requirement already satisfied: idna<3,>=2.5 in /home/aman/anaconda3/envs/env_hl_tf/lib/python3.8/site-packages (from requests<3,>=2.21.0->tensorboard~=2.5->tensorflow>=2.3.0->tensorflow-recommenders) (2.10)\n",
      "Requirement already satisfied: urllib3<1.27,>=1.21.1 in /home/aman/anaconda3/envs/env_hl_tf/lib/python3.8/site-packages (from requests<3,>=2.21.0->tensorboard~=2.5->tensorflow>=2.3.0->tensorflow-recommenders) (1.26.4)\n",
      "Requirement already satisfied: certifi>=2017.4.17 in /home/aman/anaconda3/envs/env_hl_tf/lib/python3.8/site-packages (from requests<3,>=2.21.0->tensorboard~=2.5->tensorflow>=2.3.0->tensorflow-recommenders) (2020.12.5)\n",
      "Requirement already satisfied: chardet<5,>=3.0.2 in /home/aman/anaconda3/envs/env_hl_tf/lib/python3.8/site-packages (from requests<3,>=2.21.0->tensorboard~=2.5->tensorflow>=2.3.0->tensorflow-recommenders) (4.0.0)\n",
      "Requirement already satisfied: oauthlib>=3.0.0 in /home/aman/anaconda3/envs/env_hl_tf/lib/python3.8/site-packages (from requests-oauthlib>=0.7.0->google-auth-oauthlib<0.5,>=0.4.1->tensorboard~=2.5->tensorflow>=2.3.0->tensorflow-recommenders) (3.1.1)\n",
      "Requirement already satisfied: tensorflow-datasets in /home/aman/anaconda3/envs/env_hl_tf/lib/python3.8/site-packages (4.4.0)\n",
      "Requirement already satisfied: tensorflow-metadata in /home/aman/anaconda3/envs/env_hl_tf/lib/python3.8/site-packages (from tensorflow-datasets) (1.2.0)\n",
      "Requirement already satisfied: termcolor in /home/aman/anaconda3/envs/env_hl_tf/lib/python3.8/site-packages (from tensorflow-datasets) (1.1.0)\n",
      "Requirement already satisfied: requests>=2.19.0 in /home/aman/anaconda3/envs/env_hl_tf/lib/python3.8/site-packages (from tensorflow-datasets) (2.25.1)\n",
      "Requirement already satisfied: tqdm in /home/aman/anaconda3/envs/env_hl_tf/lib/python3.8/site-packages (from tensorflow-datasets) (4.59.0)\n",
      "Requirement already satisfied: numpy in /home/aman/anaconda3/envs/env_hl_tf/lib/python3.8/site-packages (from tensorflow-datasets) (1.19.5)\n",
      "Requirement already satisfied: dill in /home/aman/anaconda3/envs/env_hl_tf/lib/python3.8/site-packages (from tensorflow-datasets) (0.3.4)\n",
      "Requirement already satisfied: protobuf>=3.12.2 in /home/aman/anaconda3/envs/env_hl_tf/lib/python3.8/site-packages (from tensorflow-datasets) (3.17.3)\n",
      "Requirement already satisfied: importlib-resources in /home/aman/anaconda3/envs/env_hl_tf/lib/python3.8/site-packages (from tensorflow-datasets) (5.2.2)\n",
      "Requirement already satisfied: promise in /home/aman/anaconda3/envs/env_hl_tf/lib/python3.8/site-packages (from tensorflow-datasets) (2.3)\n",
      "Requirement already satisfied: future in /home/aman/anaconda3/envs/env_hl_tf/lib/python3.8/site-packages (from tensorflow-datasets) (0.18.2)\n",
      "Requirement already satisfied: attrs>=18.1.0 in /home/aman/anaconda3/envs/env_hl_tf/lib/python3.8/site-packages (from tensorflow-datasets) (20.3.0)\n",
      "Requirement already satisfied: six in /home/aman/anaconda3/envs/env_hl_tf/lib/python3.8/site-packages (from tensorflow-datasets) (1.15.0)\n",
      "Requirement already satisfied: absl-py in /home/aman/anaconda3/envs/env_hl_tf/lib/python3.8/site-packages (from tensorflow-datasets) (0.12.0)\n"
     ]
    },
    {
     "name": "stdout",
     "output_type": "stream",
     "text": [
      "Requirement already satisfied: certifi>=2017.4.17 in /home/aman/anaconda3/envs/env_hl_tf/lib/python3.8/site-packages (from requests>=2.19.0->tensorflow-datasets) (2020.12.5)\n",
      "Requirement already satisfied: chardet<5,>=3.0.2 in /home/aman/anaconda3/envs/env_hl_tf/lib/python3.8/site-packages (from requests>=2.19.0->tensorflow-datasets) (4.0.0)\n",
      "Requirement already satisfied: urllib3<1.27,>=1.21.1 in /home/aman/anaconda3/envs/env_hl_tf/lib/python3.8/site-packages (from requests>=2.19.0->tensorflow-datasets) (1.26.4)\n",
      "Requirement already satisfied: idna<3,>=2.5 in /home/aman/anaconda3/envs/env_hl_tf/lib/python3.8/site-packages (from requests>=2.19.0->tensorflow-datasets) (2.10)\n",
      "Requirement already satisfied: zipp>=3.1.0 in /home/aman/anaconda3/envs/env_hl_tf/lib/python3.8/site-packages (from importlib-resources->tensorflow-datasets) (3.4.1)\n",
      "Requirement already satisfied: googleapis-common-protos<2,>=1.52.0 in /home/aman/anaconda3/envs/env_hl_tf/lib/python3.8/site-packages (from tensorflow-metadata->tensorflow-datasets) (1.53.0)\n"
     ]
    }
   ],
   "source": [
    "!pip install tensorflow-recommenders\n",
    "!pip install --upgrade tensorflow-datasets"
   ]
  },
  {
   "cell_type": "code",
   "execution_count": 3,
   "id": "4ed74780",
   "metadata": {},
   "outputs": [],
   "source": [
    "from typing import Dict, Text\n",
    "\n",
    "import numpy as np\n",
    "import tensorflow as tf\n",
    "\n",
    "import tensorflow_datasets as tfds\n",
    "import tensorflow_recommenders as tfrs"
   ]
  },
  {
   "cell_type": "code",
   "execution_count": 4,
   "id": "e7263d29",
   "metadata": {},
   "outputs": [],
   "source": [
    "ratings = tfds.load('movielens/100k-ratings', split='train')"
   ]
  },
  {
   "cell_type": "code",
   "execution_count": 5,
   "id": "6d93c5f2",
   "metadata": {},
   "outputs": [],
   "source": [
    "movies = tfds.load('movielens/100k-movies', split='train')"
   ]
  },
  {
   "cell_type": "code",
   "execution_count": 6,
   "id": "c04b70ac",
   "metadata": {},
   "outputs": [
    {
     "name": "stdout",
     "output_type": "stream",
     "text": [
      "1682\n",
      "1682\n",
      "tf.Tensor(1682, shape=(), dtype=int64)\n",
      "{'movie_genres': <tf.Tensor: shape=(1,), dtype=int64, numpy=array([4])>, 'movie_id': <tf.Tensor: shape=(), dtype=string, numpy=b'1681'>, 'movie_title': <tf.Tensor: shape=(), dtype=string, numpy=b'You So Crazy (1994)'>}\n",
      "{'movie_genres': array([4]), 'movie_id': b'1681', 'movie_title': b'You So Crazy (1994)'}\n",
      "{'movie_genres': array([4, 7]), 'movie_id': b'1457', 'movie_title': b'Love Is All There Is (1996)'}\n",
      "{'movie_genres': array([1, 3]), 'movie_id': b'500', 'movie_title': b'Fly Away Home (1996)'}\n",
      "{'movie_genres': array([0]), 'movie_id': b'838', 'movie_title': b'In the Line of Duty 2 (1987)'}\n",
      "{'movie_genres': array([7]), 'movie_id': b'1648', 'movie_title': b'Niagara, Niagara (1997)'}\n",
      "{'movie_genres': array([5]), 'movie_id': b'547', 'movie_title': b\"Young Poisoner's Handbook, The (1995)\"}\n",
      "{'movie_genres': array([7]), 'movie_id': b'387', 'movie_title': b'Age of Innocence, The (1993)'}\n",
      "{'movie_genres': array([7]), 'movie_id': b'1495', 'movie_title': b'Flirt (1995)'}\n",
      "{'movie_genres': array([7]), 'movie_id': b'817', 'movie_title': b'Frisk (1995)'}\n",
      "{'movie_genres': array([17]), 'movie_id': b'267', 'movie_title': b'unknown'}\n",
      "{'movie_genres': array([7]), 'movie_id': b'1637', 'movie_title': b'Girls Town (1996)'}\n",
      "{'movie_genres': array([7]), 'movie_id': b'1396', 'movie_title': b'Stonewall (1995)'}\n",
      "{'movie_genres': array([ 0,  1, 14, 18]), 'movie_id': b'498', 'movie_title': b'African Queen, The (1951)'}\n",
      "{'movie_genres': array([ 7, 16]), 'movie_id': b'852', 'movie_title': b'Bloody Child, The (1996)'}\n",
      "{'movie_genres': array([ 0, 16]), 'movie_id': b'685', 'movie_title': b'Executive Decision (1996)'}\n",
      "{'movie_genres': array([0, 1, 4, 5]), 'movie_id': b'231', 'movie_title': b'Batman Returns (1992)'}\n",
      "{'movie_genres': array([ 4, 18]), 'movie_id': b'719', 'movie_title': b'Canadian Bacon (1994)'}\n",
      "{'movie_genres': array([3, 7, 8]), 'movie_id': b'308', 'movie_title': b'FairyTale: A True Story (1997)'}\n",
      "{'movie_genres': array([10]), 'movie_id': b'445', 'movie_title': b'Body Snatcher, The (1945)'}\n",
      "{'movie_genres': array([ 4, 14]), 'movie_id': b'486', 'movie_title': b'Sabrina (1954)'}\n"
     ]
    }
   ],
   "source": [
    "movies.cardinality()\n",
    "\n",
    "cnt = 0\n",
    "for e in movies:\n",
    "#     print(e)\n",
    "    cnt += 1\n",
    "    \n",
    "print(cnt)\n",
    "print(len(movies))\n",
    "print(movies.cardinality())\n",
    "\n",
    "for e in movies.take(1):\n",
    "    print(e)\n",
    "    \n",
    "for i in movies.take(20).as_numpy_iterator():\n",
    "    print(i)"
   ]
  },
  {
   "cell_type": "code",
   "execution_count": 7,
   "id": "5d6a0294",
   "metadata": {},
   "outputs": [
    {
     "name": "stdout",
     "output_type": "stream",
     "text": [
      "{'movie_title': b\"One Flew Over the Cuckoo's Nest (1975)\", 'user_id': b'138'}\n",
      "{'movie_title': b'Strictly Ballroom (1992)', 'user_id': b'92'}\n",
      "{'movie_title': b'Very Brady Sequel, A (1996)', 'user_id': b'301'}\n",
      "{'movie_title': b'Pulp Fiction (1994)', 'user_id': b'60'}\n",
      "{'movie_title': b'Scream 2 (1997)', 'user_id': b'197'}\n",
      "{'movie_title': b'Crash (1996)', 'user_id': b'601'}\n",
      "{'movie_title': b'Aladdin (1992)', 'user_id': b'710'}\n",
      "{'movie_title': b'True Romance (1993)', 'user_id': b'833'}\n",
      "{'movie_title': b'Bob Roberts (1992)', 'user_id': b'916'}\n",
      "{'movie_title': b'Starship Troopers (1997)', 'user_id': b'940'}\n",
      "{'movie_title': b'Sphere (1998)', 'user_id': b'611'}\n",
      "{'movie_title': b'Tin Men (1987)', 'user_id': b'707'}\n",
      "{'movie_title': b'Arrival, The (1996)', 'user_id': b'699'}\n",
      "{'movie_title': b'Beavis and Butt-head Do America (1996)', 'user_id': b'16'}\n",
      "{'movie_title': b'Last Dance (1996)', 'user_id': b'314'}\n",
      "{'movie_title': b'In the Line of Fire (1993)', 'user_id': b'217'}\n",
      "{'movie_title': b'Lone Star (1996)', 'user_id': b'276'}\n",
      "{'movie_title': b'Liar Liar (1997)', 'user_id': b'510'}\n",
      "{'movie_title': b'Hunt for Red October, The (1990)', 'user_id': b'757'}\n",
      "{'movie_title': b'Jungle Book, The (1994)', 'user_id': b'881'}\n"
     ]
    }
   ],
   "source": [
    "ratings.cardinality()\n",
    "ratings.take(1).as_numpy_iterator().next()\n",
    "\n",
    "ratings = ratings.map( lambda x: { \n",
    "                                    'movie_title' : x['movie_title'],\n",
    "                                    'user_id' : x['user_id']\n",
    "                                }\n",
    "                                 )\n",
    "for i in ratings.take(20).as_numpy_iterator():\n",
    "    print(i)"
   ]
  },
  {
   "cell_type": "code",
   "execution_count": 8,
   "id": "d4c642fe",
   "metadata": {},
   "outputs": [
    {
     "name": "stdout",
     "output_type": "stream",
     "text": [
      "tf.Tensor(b'You So Crazy (1994)', shape=(), dtype=string)\n",
      "tf.Tensor(b'Love Is All There Is (1996)', shape=(), dtype=string)\n",
      "tf.Tensor(b'Fly Away Home (1996)', shape=(), dtype=string)\n",
      "tf.Tensor(b'In the Line of Duty 2 (1987)', shape=(), dtype=string)\n",
      "tf.Tensor(b'Niagara, Niagara (1997)', shape=(), dtype=string)\n",
      "b'You So Crazy (1994)'\n",
      "b'Love Is All There Is (1996)'\n",
      "b'Fly Away Home (1996)'\n",
      "b'In the Line of Duty 2 (1987)'\n",
      "b'Niagara, Niagara (1997)'\n"
     ]
    }
   ],
   "source": [
    "movies = movies.map(lambda x: x['movie_title'])\n",
    "for i in movies.take(5):\n",
    "    print(i)\n",
    "for i in movies.take(5).as_numpy_iterator():\n",
    "    print(i)"
   ]
  },
  {
   "cell_type": "code",
   "execution_count": null,
   "id": "9cd3be76",
   "metadata": {},
   "outputs": [],
   "source": []
  },
  {
   "cell_type": "code",
   "execution_count": 9,
   "id": "6b0efae0",
   "metadata": {},
   "outputs": [],
   "source": [
    "user_ids_vocab = tf.keras.layers.experimental.preprocessing.StringLookup(mask_token=None)\n",
    "user_ids_vocab.adapt(ratings.map(lambda x: x['user_id']))\n",
    "\n",
    "movies_ids_vocab = tf.keras.layers.experimental.preprocessing.StringLookup(mask_token=None)\n",
    "movies_ids_vocab.adapt(movies)\n"
   ]
  },
  {
   "cell_type": "code",
   "execution_count": 10,
   "id": "e051dbb0",
   "metadata": {},
   "outputs": [],
   "source": [
    "emb_dim = 64\n",
    "user_model = tf.keras.Sequential([\n",
    "    user_ids_vocab, tf.keras.layers.Embedding(user_ids_vocab.vocabulary_size(), emb_dim)\n",
    "])\n",
    "movies_model = tf.keras.Sequential([\n",
    "    movies_ids_vocab, tf.keras.layers.Embedding(movies_ids_vocab.vocabulary_size(), emb_dim)\n",
    "])\n",
    "\n",
    "'''\n",
    "probably means - take 128 smaples at a time and check if the positive data point(true label) comes in the\n",
    "top-K of the points.\n",
    "'''\n",
    "task = tfrs.tasks.Retrieval(metrics=tfrs.metrics.FactorizedTopK(movies.batch(128).map(movies_model)) )\n"
   ]
  },
  {
   "cell_type": "code",
   "execution_count": 11,
   "id": "5aabb0c7",
   "metadata": {},
   "outputs": [],
   "source": [
    "class MovieLensModel(tfrs.Model):\n",
    "    def __init__(self, user_model: tf.keras.Model, movies_model: tf.keras.Model, task : tfrs.tasks.Retrieval):\n",
    "        \n",
    "        super().__init__()\n",
    "        \n",
    "        self.user_model = user_model\n",
    "        self.movies_model = movies_model\n",
    "        \n",
    "        self.task = task\n",
    "    \n",
    "    def compute_loss(self, features: Dict[Text, tf.Tensor], training=False) -> tf.Tensor:\n",
    "        user_embeddings = self.user_model(features['user_id'])\n",
    "        movies_embeddings = self.movies_model(features['movie_title'])\n",
    "        \n",
    "        return self.task(user_embeddings, movies_embeddings)\n",
    "    "
   ]
  },
  {
   "cell_type": "code",
   "execution_count": 12,
   "id": "96b7b36e",
   "metadata": {},
   "outputs": [
    {
     "name": "stdout",
     "output_type": "stream",
     "text": [
      "Epoch 1/5\n",
      "WARNING:tensorflow:From /home/aman/anaconda3/envs/env_hl_tf/lib/python3.8/site-packages/tensorflow/python/ops/array_ops.py:5043: calling gather (from tensorflow.python.ops.array_ops) with validate_indices is deprecated and will be removed in a future version.\n",
      "Instructions for updating:\n",
      "The `validate_indices` argument has no effect. Indices are always validated on CPU and never validated on GPU.\n"
     ]
    },
    {
     "name": "stderr",
     "output_type": "stream",
     "text": [
      "WARNING:tensorflow:From /home/aman/anaconda3/envs/env_hl_tf/lib/python3.8/site-packages/tensorflow/python/ops/array_ops.py:5043: calling gather (from tensorflow.python.ops.array_ops) with validate_indices is deprecated and will be removed in a future version.\n",
      "Instructions for updating:\n",
      "The `validate_indices` argument has no effect. Indices are always validated on CPU and never validated on GPU.\n"
     ]
    },
    {
     "name": "stdout",
     "output_type": "stream",
     "text": [
      "25/25 [==============================] - 7s 214ms/step - factorized_top_k/top_1_categorical_accuracy: 1.0000e-04 - factorized_top_k/top_5_categorical_accuracy: 0.0016 - factorized_top_k/top_10_categorical_accuracy: 0.0051 - factorized_top_k/top_50_categorical_accuracy: 0.0455 - factorized_top_k/top_100_categorical_accuracy: 0.1024 - loss: 33078.3702 - regularization_loss: 0.0000e+00 - total_loss: 33078.3702\n",
      "Epoch 2/5\n",
      "25/25 [==============================] - 5s 208ms/step - factorized_top_k/top_1_categorical_accuracy: 1.6000e-04 - factorized_top_k/top_5_categorical_accuracy: 0.0049 - factorized_top_k/top_10_categorical_accuracy: 0.0142 - factorized_top_k/top_50_categorical_accuracy: 0.1044 - factorized_top_k/top_100_categorical_accuracy: 0.2107 - loss: 31004.6665 - regularization_loss: 0.0000e+00 - total_loss: 31004.6665\n",
      "Epoch 3/5\n",
      "25/25 [==============================] - 5s 214ms/step - factorized_top_k/top_1_categorical_accuracy: 3.2000e-04 - factorized_top_k/top_5_categorical_accuracy: 0.0081 - factorized_top_k/top_10_categorical_accuracy: 0.0220 - factorized_top_k/top_50_categorical_accuracy: 0.1437 - factorized_top_k/top_100_categorical_accuracy: 0.2682 - loss: 30416.1082 - regularization_loss: 0.0000e+00 - total_loss: 30416.1082\n",
      "Epoch 4/5\n",
      "25/25 [==============================] - 5s 210ms/step - factorized_top_k/top_1_categorical_accuracy: 4.1000e-04 - factorized_top_k/top_5_categorical_accuracy: 0.0100 - factorized_top_k/top_10_categorical_accuracy: 0.0275 - factorized_top_k/top_50_categorical_accuracy: 0.1766 - factorized_top_k/top_100_categorical_accuracy: 0.3131 - loss: 30069.7698 - regularization_loss: 0.0000e+00 - total_loss: 30069.7698\n",
      "Epoch 5/5\n",
      "25/25 [==============================] - 5s 215ms/step - factorized_top_k/top_1_categorical_accuracy: 3.0000e-04 - factorized_top_k/top_5_categorical_accuracy: 0.0106 - factorized_top_k/top_10_categorical_accuracy: 0.0301 - factorized_top_k/top_50_categorical_accuracy: 0.1986 - factorized_top_k/top_100_categorical_accuracy: 0.3436 - loss: 29816.1153 - regularization_loss: 0.0000e+00 - total_loss: 29816.1153\n"
     ]
    },
    {
     "data": {
      "text/plain": [
       "<tensorflow.python.keras.callbacks.History at 0x7f83306e3580>"
      ]
     },
     "execution_count": 12,
     "metadata": {},
     "output_type": "execute_result"
    }
   ],
   "source": [
    "model = MovieLensModel(user_model, movies_model, task)\n",
    "\n",
    "model.compile(optimizer=tf.keras.optimizers.Adagrad(0.5))\n",
    "\n",
    "model.fit(ratings.batch(4096), epochs = 5)"
   ]
  },
  {
   "cell_type": "code",
   "execution_count": 13,
   "id": "39cda675",
   "metadata": {},
   "outputs": [
    {
     "data": {
      "text/plain": [
       "[PhysicalDevice(name='/physical_device:CPU:0', device_type='CPU'),\n",
       " PhysicalDevice(name='/physical_device:GPU:0', device_type='GPU')]"
      ]
     },
     "execution_count": 13,
     "metadata": {},
     "output_type": "execute_result"
    }
   ],
   "source": [
    "tf.config.list_physical_devices()"
   ]
  },
  {
   "cell_type": "code",
   "execution_count": 21,
   "id": "21634bc5",
   "metadata": {},
   "outputs": [
    {
     "name": "stdout",
     "output_type": "stream",
     "text": [
      "top rec. =  tf.Tensor(\n",
      "[b'Rent-a-Kid (1995)' b'Just Cause (1995)'\n",
      " b'Winnie the Pooh and the Blustery Day (1968)'], shape=(3,), dtype=string)\n"
     ]
    }
   ],
   "source": [
    "# default k = 10\n",
    "index = tfrs.layers.factorized_top_k.BruteForce(model.user_model)\n",
    "\n",
    "index.index(movies.batch(100).map(movies_model), movies)\n",
    "\n",
    "_, titles = index(np.array(['42']))\n",
    "\n",
    "print(\"top rec. = \", titles[0, :3])"
   ]
  },
  {
   "cell_type": "code",
   "execution_count": 22,
   "id": "7114175c",
   "metadata": {},
   "outputs": [
    {
     "data": {
      "text/plain": [
       "<tf.Tensor: shape=(10,), dtype=string, numpy=\n",
       "array([b'Rent-a-Kid (1995)', b'Just Cause (1995)',\n",
       "       b'Winnie the Pooh and the Blustery Day (1968)',\n",
       "       b'Murder in the First (1995)', b'House Arrest (1996)',\n",
       "       b'Only You (1994)', b'Two if by Sea (1996)', b'Old Yeller (1957)',\n",
       "       b'Unstrung Heroes (1995)', b'Father of the Bride Part II (1995)'],\n",
       "      dtype=object)>"
      ]
     },
     "execution_count": 22,
     "metadata": {},
     "output_type": "execute_result"
    }
   ],
   "source": [
    "titles[0]"
   ]
  },
  {
   "cell_type": "code",
   "execution_count": 23,
   "id": "1e894ba7",
   "metadata": {},
   "outputs": [
    {
     "data": {
      "text/plain": [
       "<tf.Tensor: shape=(1, 10), dtype=float32, numpy=\n",
       "array([[4.5950384, 3.8992772, 3.7086987, 3.4556668, 3.3144298, 3.3136063,\n",
       "        3.1960196, 3.1284142, 3.086831 , 2.9352067]], dtype=float32)>"
      ]
     },
     "execution_count": 23,
     "metadata": {},
     "output_type": "execute_result"
    }
   ],
   "source": [
    "_"
   ]
  },
  {
   "cell_type": "code",
   "execution_count": null,
   "id": "fa829f94",
   "metadata": {},
   "outputs": [],
   "source": []
  }
 ],
 "metadata": {
  "kernelspec": {
   "display_name": "Python 3",
   "language": "python",
   "name": "python3"
  },
  "language_info": {
   "codemirror_mode": {
    "name": "ipython",
    "version": 3
   },
   "file_extension": ".py",
   "mimetype": "text/x-python",
   "name": "python",
   "nbconvert_exporter": "python",
   "pygments_lexer": "ipython3",
   "version": "3.8.8"
  }
 },
 "nbformat": 4,
 "nbformat_minor": 5
}
